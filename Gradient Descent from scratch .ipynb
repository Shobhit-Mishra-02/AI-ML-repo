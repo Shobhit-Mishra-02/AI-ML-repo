{
 "cells": [
  {
   "cell_type": "code",
   "execution_count": 1,
   "id": "0b9ada70",
   "metadata": {},
   "outputs": [],
   "source": [
    "import numpy as np"
   ]
  },
  {
   "cell_type": "code",
   "execution_count": 2,
   "id": "e198742b",
   "metadata": {},
   "outputs": [],
   "source": [
    "# x is the feature array\n",
    "x = [1,3,5,6,7]\n",
    "\n",
    "# y is the label array\n",
    "y = [24,34,46,55,60]"
   ]
  },
  {
   "cell_type": "code",
   "execution_count": 3,
   "id": "a2ee356f",
   "metadata": {},
   "outputs": [],
   "source": [
    "x = np.array(x)\n",
    "y = np.array(y)"
   ]
  },
  {
   "cell_type": "code",
   "execution_count": 4,
   "id": "52b4367d",
   "metadata": {},
   "outputs": [
    {
     "data": {
      "text/plain": [
       "array([1, 3, 5, 6, 7])"
      ]
     },
     "execution_count": 4,
     "metadata": {},
     "output_type": "execute_result"
    }
   ],
   "source": [
    "x"
   ]
  },
  {
   "cell_type": "code",
   "execution_count": 5,
   "id": "a3e54190",
   "metadata": {},
   "outputs": [],
   "source": [
    "import matplotlib.pyplot as plt"
   ]
  },
  {
   "cell_type": "code",
   "execution_count": 7,
   "id": "d68e6cba",
   "metadata": {},
   "outputs": [
    {
     "data": {
      "text/plain": [
       "<matplotlib.collections.PathCollection at 0x23288358be0>"
      ]
     },
     "execution_count": 7,
     "metadata": {},
     "output_type": "execute_result"
    },
    {
     "data": {
      "image/png": "[encoded data removed]",
      "text/plain": [
       "<Figure size 432x288 with 1 Axes>"
      ]
     },
     "metadata": {
      "needs_background": "light"
     },
     "output_type": "display_data"
    }
   ],
   "source": [
    "plt.scatter(x,y)"
   ]
  },
  {
   "cell_type": "markdown",
   "id": "1d9170fa",
   "metadata": {},
   "source": [
    "## Gradient Desent\n",
    "\n",
    "Now the most important part comes where we will calculate the gradient desent for the linear model\n",
    "\n",
    "### Important formulas:\n",
    "1. Loss function (Mean Square Error): (1/n)*(y_true - y_predicted)^2\n",
    "2. Equation of the linear model: y_predicted = m*(x_features) - b"
   ]
  },
  {
   "cell_type": "code",
   "execution_count": 16,
   "id": "f9025922",
   "metadata": {},
   "outputs": [],
   "source": [
    "\n",
    "# This will return the value of m and b \n",
    "\n",
    "def GradientDesent(x,y):\n",
    "    learning_rate = 0.0001\n",
    "    iteration = 10000\n",
    "    m = b = 0\n",
    "    \n",
    "    for i in range(iteration):\n",
    "        \n",
    "        y_pred = m*x + b\n",
    "        \n",
    "        loss_val = (1/len(x))*(sum((y-y_pred)*(y-y_pred)))\n",
    "        \n",
    "        dev_m = -(2/len(x))*(sum(x*(y-y_pred))) #This is the partial derivative of loss function with respect to m.\n",
    "        dev_b = -(2/len(x))*(sum(y-y_pred)) #This is the partial derivative of the loss function with respect to b.\n",
    "        \n",
    "        # changing the value of m and b\n",
    "        m = m-(learning_rate*dev_m)\n",
    "        b = b-(learning_rate*dev_b)\n",
    "        \n",
    "#         print(\"value of m \",m,\" value of b \",b,\" loss value \",loss_val, end='\\n')\n",
    "    \n",
    "    print(\"value of m \",m,\" value of b \",b,\" loss value \",loss_val, end='\\n')\n",
    "    return (m,b,loss_val)"
   ]
  },
  {
   "cell_type": "code",
   "execution_count": 17,
   "id": "23cc4195",
   "metadata": {},
   "outputs": [
    {
     "name": "stdout",
     "output_type": "stream",
     "text": [
      "value of m  8.062768797762908  value of b  6.375793430085453  loss value  22.339292851697092\n"
     ]
    },
    {
     "data": {
      "text/plain": [
       "(8.062768797762908, 6.375793430085453, 22.339292851697092)"
      ]
     },
     "execution_count": 17,
     "metadata": {},
     "output_type": "execute_result"
    }
   ],
   "source": [
    "GradientDesent(x,y)"
   ]
  },
  {
   "cell_type": "code",
   "execution_count": 22,
   "id": "d73042fe",
   "metadata": {},
   "outputs": [
    {
     "name": "stdout",
     "output_type": "stream",
     "text": [
      "value of m  8.062768797762908  value of b  6.375793430085453  loss value  22.339292851697092\n"
     ]
    },
    {
     "data": {
      "text/plain": [
       "[14.438562227848362,\n",
       " 30.56409982337418,\n",
       " 46.68963741889999,\n",
       " 54.752406216662905,\n",
       " 62.81517501442581]"
      ]
     },
     "execution_count": 22,
     "metadata": {},
     "output_type": "execute_result"
    }
   ],
   "source": [
    "(m,b,l) = GradientDesent(x,y)\n",
    "\n",
    "y_pred = [(m*i+b) for i in x]\n",
    "y_pred"
   ]
  },
  {
   "cell_type": "markdown",
   "id": "35f639db",
   "metadata": {},
   "source": [
    "## Marking the predicted points in the graph\n",
    "\n",
    "The green line is the predicted line"
   ]
  },
  {
   "cell_type": "code",
   "execution_count": 29,
   "id": "57c413e9",
   "metadata": {},
   "outputs": [
    {
     "data": {
      "text/plain": [
       "[<matplotlib.lines.Line2D at 0x2328ee79910>]"
      ]
     },
     "execution_count": 29,
     "metadata": {},
     "output_type": "execute_result"
    },
    {
     "data": {
      "image/png": "[encoded data removed]",
      "text/plain": [
       "<Figure size 432x288 with 1 Axes>"
      ]
     },
     "metadata": {
      "needs_background": "light"
     },
     "output_type": "display_data"
    }
   ],
   "source": [
    "plt.scatter(x,y)\n",
    "plt.plot(x, y_pred, color = 'green')"
   ]
  },
  {
   "cell_type": "markdown",
   "id": "8379d450",
   "metadata": {},
   "source": [
    "## Doing the same problem with linear model in the sklearn"
   ]
  },
  {
   "cell_type": "code",
   "execution_count": 40,
   "id": "224e0bf3",
   "metadata": {},
   "outputs": [
    {
     "data": {
      "text/plain": [
       "LinearRegression()"
      ]
     },
     "execution_count": 40,
     "metadata": {},
     "output_type": "execute_result"
    }
   ],
   "source": [
    "from sklearn.linear_model import LinearRegression\n",
    "model = LinearRegression()\n",
    "model.fit(x.reshape(-1,1), y.reshape(-1,1))"
   ]
  },
  {
   "cell_type": "code",
   "execution_count": 41,
   "id": "9ed8c7ba",
   "metadata": {},
   "outputs": [
    {
     "data": {
      "text/plain": [
       "array([[6.13793103]])"
      ]
     },
     "execution_count": 41,
     "metadata": {},
     "output_type": "execute_result"
    }
   ],
   "source": [
    "model.coef_"
   ]
  },
  {
   "cell_type": "code",
   "execution_count": 42,
   "id": "1d644ae9",
   "metadata": {},
   "outputs": [
    {
     "data": {
      "text/plain": [
       "array([16.79310345])"
      ]
     },
     "execution_count": 42,
     "metadata": {},
     "output_type": "execute_result"
    }
   ],
   "source": [
    "model.intercept_"
   ]
  },
  {
   "cell_type": "code",
   "execution_count": 54,
   "id": "3ae41fcd",
   "metadata": {},
   "outputs": [],
   "source": [
    "m = model.coef_\n",
    "b = model.intercept_\n",
    "\n",
    "y_pred = np.array([m*i+b for i in x])\n",
    "y_pred = y_pred.reshape(5,1)\n"
   ]
  },
  {
   "cell_type": "code",
   "execution_count": 55,
   "id": "ef59fa59",
   "metadata": {},
   "outputs": [
    {
     "data": {
      "text/plain": [
       "[<matplotlib.lines.Line2D at 0x232a1ce79a0>]"
      ]
     },
     "execution_count": 55,
     "metadata": {},
     "output_type": "execute_result"
    },
    {
     "data": {
      "image/png": "[encoded data removed]",
      "text/plain": [
       "<Figure size 432x288 with 1 Axes>"
      ]
     },
     "metadata": {
      "needs_background": "light"
     },
     "output_type": "display_data"
    }
   ],
   "source": [
    "plt.scatter(x,y)\n",
    "plt.plot(x, y_pred, color = 'green')"
   ]
  },
  {
   "cell_type": "markdown",
   "id": "2b8ab532",
   "metadata": {},
   "source": [
    "# Conclusion\n",
    "\n",
    "If you checkout the results from the GradientDesent() function which I have written from the scratch, so you will notice that there is a very little difference between our result and result from the sklearn linearRegression model. Although we can increase the accuracy of our GradientDesent function by just increasing the iteration value.\n",
    "\n",
    "### Results from the scratch\n",
    "value of m  8.062768797762908  value of b  6.375793430085453  loss value  22.339292851697092\n",
    "\n",
    "### Results from the Sklearn LinearRegression model\n",
    "value of m 6.13793103 value of b 16.79310345\n"
   ]
  },
  {
   "cell_type": "code",
   "execution_count": null,
   "id": "3a8c68a4",
   "metadata": {},
   "outputs": [],
   "source": []
  }
 ],
 "metadata": {
  "kernelspec": {
   "display_name": "Python 3 (ipykernel)",
   "language": "python",
   "name": "python3"
  },
  "language_info": {
   "codemirror_mode": {
    "name": "ipython",
    "version": 3
   },
   "file_extension": ".py",
   "mimetype": "text/x-python",
   "name": "python",
   "nbconvert_exporter": "python",
   "pygments_lexer": "ipython3",
   "version": "3.9.10"
  }
 },
 "nbformat": 4,
 "nbformat_minor": 5
}
