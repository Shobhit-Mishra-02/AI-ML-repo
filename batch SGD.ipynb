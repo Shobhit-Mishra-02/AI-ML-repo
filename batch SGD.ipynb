{
 "cells": [
  {
   "cell_type": "code",
   "execution_count": 1,
   "id": "256f48d0",
   "metadata": {},
   "outputs": [],
   "source": [
    "import numpy as np\n",
    "import pandas as pd"
   ]
  },
  {
   "cell_type": "markdown",
   "id": "01bb760f",
   "metadata": {},
   "source": [
    "### Finding the required data from the boston house pricing prediction dataset."
   ]
  },
  {
   "cell_type": "code",
   "execution_count": 2,
   "id": "b664ccd0",
   "metadata": {},
   "outputs": [
    {
     "name": "stderr",
     "output_type": "stream",
     "text": [
      "C:\\Users\\shobh\\AppData\\Local\\Programs\\Python\\Python39\\lib\\site-packages\\sklearn\\utils\\deprecation.py:87: FutureWarning: Function load_boston is deprecated; `load_boston` is deprecated in 1.0 and will be removed in 1.2.\n",
      "\n",
      "    The Boston housing prices dataset has an ethical problem. You can refer to\n",
      "    the documentation of this function for further details.\n",
      "\n",
      "    The scikit-learn maintainers therefore strongly discourage the use of this\n",
      "    dataset unless the purpose of the code is to study and educate about\n",
      "    ethical issues in data science and machine learning.\n",
      "\n",
      "    In this special case, you can fetch the dataset from the original\n",
      "    source::\n",
      "\n",
      "        import pandas as pd\n",
      "        import numpy as np\n",
      "\n",
      "\n",
      "        data_url = \"http://lib.stat.cmu.edu/datasets/boston\"\n",
      "        raw_df = pd.read_csv(data_url, sep=\"\\s+\", skiprows=22, header=None)\n",
      "        data = np.hstack([raw_df.values[::2, :], raw_df.values[1::2, :2]])\n",
      "        target = raw_df.values[1::2, 2]\n",
      "\n",
      "    Alternative datasets include the California housing dataset (i.e.\n",
      "    :func:`~sklearn.datasets.fetch_california_housing`) and the Ames housing\n",
      "    dataset. You can load the datasets as follows::\n",
      "\n",
      "        from sklearn.datasets import fetch_california_housing\n",
      "        housing = fetch_california_housing()\n",
      "\n",
      "    for the California housing dataset and::\n",
      "\n",
      "        from sklearn.datasets import fetch_openml\n",
      "        housing = fetch_openml(name=\"house_prices\", as_frame=True)\n",
      "\n",
      "    for the Ames housing dataset.\n",
      "    \n",
      "  warnings.warn(msg, category=FutureWarning)\n"
     ]
    }
   ],
   "source": [
    "from sklearn import datasets\n",
    "data = datasets.load_boston()"
   ]
  },
  {
   "cell_type": "code",
   "execution_count": 3,
   "id": "03ec241f",
   "metadata": {},
   "outputs": [],
   "source": [
    "df = pd.DataFrame(data.data)"
   ]
  },
  {
   "cell_type": "code",
   "execution_count": 4,
   "id": "303440f0",
   "metadata": {},
   "outputs": [],
   "source": [
    "df.columns = data.feature_names\n",
    "df['target'] = data.target"
   ]
  },
  {
   "cell_type": "code",
   "execution_count": 5,
   "id": "1f50d583",
   "metadata": {},
   "outputs": [
    {
     "data": {
      "text/html": [
       "<div>\n",
       "<style scoped>\n",
       "    .dataframe tbody tr th:only-of-type {\n",
       "        vertical-align: middle;\n",
       "    }\n",
       "\n",
       "    .dataframe tbody tr th {\n",
       "        vertical-align: top;\n",
       "    }\n",
       "\n",
       "    .dataframe thead th {\n",
       "        text-align: right;\n",
       "    }\n",
       "</style>\n",
       "<table border=\"1\" class=\"dataframe\">\n",
       "  <thead>\n",
       "    <tr style=\"text-align: right;\">\n",
       "      <th></th>\n",
       "      <th>CRIM</th>\n",
       "      <th>ZN</th>\n",
       "      <th>INDUS</th>\n",
       "      <th>CHAS</th>\n",
       "      <th>NOX</th>\n",
       "      <th>RM</th>\n",
       "      <th>AGE</th>\n",
       "      <th>DIS</th>\n",
       "      <th>RAD</th>\n",
       "      <th>TAX</th>\n",
       "      <th>PTRATIO</th>\n",
       "      <th>B</th>\n",
       "      <th>LSTAT</th>\n",
       "      <th>target</th>\n",
       "    </tr>\n",
       "  </thead>\n",
       "  <tbody>\n",
       "    <tr>\n",
       "      <th>0</th>\n",
       "      <td>0.00632</td>\n",
       "      <td>18.0</td>\n",
       "      <td>2.31</td>\n",
       "      <td>0.0</td>\n",
       "      <td>0.538</td>\n",
       "      <td>6.575</td>\n",
       "      <td>65.2</td>\n",
       "      <td>4.0900</td>\n",
       "      <td>1.0</td>\n",
       "      <td>296.0</td>\n",
       "      <td>15.3</td>\n",
       "      <td>396.90</td>\n",
       "      <td>4.98</td>\n",
       "      <td>24.0</td>\n",
       "    </tr>\n",
       "    <tr>\n",
       "      <th>1</th>\n",
       "      <td>0.02731</td>\n",
       "      <td>0.0</td>\n",
       "      <td>7.07</td>\n",
       "      <td>0.0</td>\n",
       "      <td>0.469</td>\n",
       "      <td>6.421</td>\n",
       "      <td>78.9</td>\n",
       "      <td>4.9671</td>\n",
       "      <td>2.0</td>\n",
       "      <td>242.0</td>\n",
       "      <td>17.8</td>\n",
       "      <td>396.90</td>\n",
       "      <td>9.14</td>\n",
       "      <td>21.6</td>\n",
       "    </tr>\n",
       "    <tr>\n",
       "      <th>2</th>\n",
       "      <td>0.02729</td>\n",
       "      <td>0.0</td>\n",
       "      <td>7.07</td>\n",
       "      <td>0.0</td>\n",
       "      <td>0.469</td>\n",
       "      <td>7.185</td>\n",
       "      <td>61.1</td>\n",
       "      <td>4.9671</td>\n",
       "      <td>2.0</td>\n",
       "      <td>242.0</td>\n",
       "      <td>17.8</td>\n",
       "      <td>392.83</td>\n",
       "      <td>4.03</td>\n",
       "      <td>34.7</td>\n",
       "    </tr>\n",
       "    <tr>\n",
       "      <th>3</th>\n",
       "      <td>0.03237</td>\n",
       "      <td>0.0</td>\n",
       "      <td>2.18</td>\n",
       "      <td>0.0</td>\n",
       "      <td>0.458</td>\n",
       "      <td>6.998</td>\n",
       "      <td>45.8</td>\n",
       "      <td>6.0622</td>\n",
       "      <td>3.0</td>\n",
       "      <td>222.0</td>\n",
       "      <td>18.7</td>\n",
       "      <td>394.63</td>\n",
       "      <td>2.94</td>\n",
       "      <td>33.4</td>\n",
       "    </tr>\n",
       "    <tr>\n",
       "      <th>4</th>\n",
       "      <td>0.06905</td>\n",
       "      <td>0.0</td>\n",
       "      <td>2.18</td>\n",
       "      <td>0.0</td>\n",
       "      <td>0.458</td>\n",
       "      <td>7.147</td>\n",
       "      <td>54.2</td>\n",
       "      <td>6.0622</td>\n",
       "      <td>3.0</td>\n",
       "      <td>222.0</td>\n",
       "      <td>18.7</td>\n",
       "      <td>396.90</td>\n",
       "      <td>5.33</td>\n",
       "      <td>36.2</td>\n",
       "    </tr>\n",
       "  </tbody>\n",
       "</table>\n",
       "</div>"
      ],
      "text/plain": [
       "      CRIM    ZN  INDUS  CHAS    NOX     RM   AGE     DIS  RAD    TAX  \\\n",
       "0  0.00632  18.0   2.31   0.0  0.538  6.575  65.2  4.0900  1.0  296.0   \n",
       "1  0.02731   0.0   7.07   0.0  0.469  6.421  78.9  4.9671  2.0  242.0   \n",
       "2  0.02729   0.0   7.07   0.0  0.469  7.185  61.1  4.9671  2.0  242.0   \n",
       "3  0.03237   0.0   2.18   0.0  0.458  6.998  45.8  6.0622  3.0  222.0   \n",
       "4  0.06905   0.0   2.18   0.0  0.458  7.147  54.2  6.0622  3.0  222.0   \n",
       "\n",
       "   PTRATIO       B  LSTAT  target  \n",
       "0     15.3  396.90   4.98    24.0  \n",
       "1     17.8  396.90   9.14    21.6  \n",
       "2     17.8  392.83   4.03    34.7  \n",
       "3     18.7  394.63   2.94    33.4  \n",
       "4     18.7  396.90   5.33    36.2  "
      ]
     },
     "execution_count": 5,
     "metadata": {},
     "output_type": "execute_result"
    }
   ],
   "source": [
    "df.head()"
   ]
  },
  {
   "cell_type": "code",
   "execution_count": 6,
   "id": "ca757f05",
   "metadata": {},
   "outputs": [],
   "source": [
    "res_df = df[[\"CRIM\",\"RM\",\"target\"]].copy()"
   ]
  },
  {
   "cell_type": "code",
   "execution_count": 7,
   "id": "596270ef",
   "metadata": {},
   "outputs": [
    {
     "data": {
      "text/html": [
       "<div>\n",
       "<style scoped>\n",
       "    .dataframe tbody tr th:only-of-type {\n",
       "        vertical-align: middle;\n",
       "    }\n",
       "\n",
       "    .dataframe tbody tr th {\n",
       "        vertical-align: top;\n",
       "    }\n",
       "\n",
       "    .dataframe thead th {\n",
       "        text-align: right;\n",
       "    }\n",
       "</style>\n",
       "<table border=\"1\" class=\"dataframe\">\n",
       "  <thead>\n",
       "    <tr style=\"text-align: right;\">\n",
       "      <th></th>\n",
       "      <th>CRIM</th>\n",
       "      <th>RM</th>\n",
       "      <th>target</th>\n",
       "    </tr>\n",
       "  </thead>\n",
       "  <tbody>\n",
       "    <tr>\n",
       "      <th>0</th>\n",
       "      <td>0.00632</td>\n",
       "      <td>6.575</td>\n",
       "      <td>24.0</td>\n",
       "    </tr>\n",
       "    <tr>\n",
       "      <th>1</th>\n",
       "      <td>0.02731</td>\n",
       "      <td>6.421</td>\n",
       "      <td>21.6</td>\n",
       "    </tr>\n",
       "    <tr>\n",
       "      <th>2</th>\n",
       "      <td>0.02729</td>\n",
       "      <td>7.185</td>\n",
       "      <td>34.7</td>\n",
       "    </tr>\n",
       "    <tr>\n",
       "      <th>3</th>\n",
       "      <td>0.03237</td>\n",
       "      <td>6.998</td>\n",
       "      <td>33.4</td>\n",
       "    </tr>\n",
       "    <tr>\n",
       "      <th>4</th>\n",
       "      <td>0.06905</td>\n",
       "      <td>7.147</td>\n",
       "      <td>36.2</td>\n",
       "    </tr>\n",
       "    <tr>\n",
       "      <th>...</th>\n",
       "      <td>...</td>\n",
       "      <td>...</td>\n",
       "      <td>...</td>\n",
       "    </tr>\n",
       "    <tr>\n",
       "      <th>501</th>\n",
       "      <td>0.06263</td>\n",
       "      <td>6.593</td>\n",
       "      <td>22.4</td>\n",
       "    </tr>\n",
       "    <tr>\n",
       "      <th>502</th>\n",
       "      <td>0.04527</td>\n",
       "      <td>6.120</td>\n",
       "      <td>20.6</td>\n",
       "    </tr>\n",
       "    <tr>\n",
       "      <th>503</th>\n",
       "      <td>0.06076</td>\n",
       "      <td>6.976</td>\n",
       "      <td>23.9</td>\n",
       "    </tr>\n",
       "    <tr>\n",
       "      <th>504</th>\n",
       "      <td>0.10959</td>\n",
       "      <td>6.794</td>\n",
       "      <td>22.0</td>\n",
       "    </tr>\n",
       "    <tr>\n",
       "      <th>505</th>\n",
       "      <td>0.04741</td>\n",
       "      <td>6.030</td>\n",
       "      <td>11.9</td>\n",
       "    </tr>\n",
       "  </tbody>\n",
       "</table>\n",
       "<p>506 rows × 3 columns</p>\n",
       "</div>"
      ],
      "text/plain": [
       "        CRIM     RM  target\n",
       "0    0.00632  6.575    24.0\n",
       "1    0.02731  6.421    21.6\n",
       "2    0.02729  7.185    34.7\n",
       "3    0.03237  6.998    33.4\n",
       "4    0.06905  7.147    36.2\n",
       "..       ...    ...     ...\n",
       "501  0.06263  6.593    22.4\n",
       "502  0.04527  6.120    20.6\n",
       "503  0.06076  6.976    23.9\n",
       "504  0.10959  6.794    22.0\n",
       "505  0.04741  6.030    11.9\n",
       "\n",
       "[506 rows x 3 columns]"
      ]
     },
     "execution_count": 7,
     "metadata": {},
     "output_type": "execute_result"
    }
   ],
   "source": [
    "# finally I have got a dataframe with the features as 'CRIM' and 'RM'\n",
    "# then target as 'target' which are actually the prices of the house.\n",
    "\n",
    "res_df"
   ]
  },
  {
   "cell_type": "code",
   "execution_count": 8,
   "id": "b3ab828c",
   "metadata": {},
   "outputs": [],
   "source": [
    "# Applying preprosessing on the features\n",
    "\n",
    "from sklearn.preprocessing import MinMaxScaler\n",
    "\n",
    "mx = MinMaxScaler()\n",
    "\n",
    "X_scaled = mx.fit_transform(res_df.drop(['target'], axis=1))"
   ]
  },
  {
   "cell_type": "code",
   "execution_count": 9,
   "id": "1c6f8b4c",
   "metadata": {},
   "outputs": [
    {
     "data": {
      "text/plain": [
       "(506, 2)"
      ]
     },
     "execution_count": 9,
     "metadata": {},
     "output_type": "execute_result"
    }
   ],
   "source": [
    "X_scaled.shape"
   ]
  },
  {
   "cell_type": "code",
   "execution_count": 10,
   "id": "878ac911",
   "metadata": {},
   "outputs": [],
   "source": [
    "Y = np.array(res_df.target)"
   ]
  },
  {
   "cell_type": "code",
   "execution_count": 11,
   "id": "27bd9c3e",
   "metadata": {},
   "outputs": [
    {
     "data": {
      "text/plain": [
       "(506,)"
      ]
     },
     "execution_count": 11,
     "metadata": {},
     "output_type": "execute_result"
    }
   ],
   "source": [
    "Y.shape"
   ]
  },
  {
   "cell_type": "code",
   "execution_count": 12,
   "id": "8e2880f6",
   "metadata": {},
   "outputs": [],
   "source": [
    "# visualize the data\n",
    "import matplotlib.pyplot as plt"
   ]
  },
  {
   "cell_type": "code",
   "execution_count": 13,
   "id": "6a2a8768",
   "metadata": {},
   "outputs": [
    {
     "data": {
      "text/plain": [
       "Text(0.5, 1.0, 'Graph b/w crime rate and pricing')"
      ]
     },
     "execution_count": 13,
     "metadata": {},
     "output_type": "execute_result"
    },
    {
     "data": {
      "image/png": "[encoded data removed]",
      "text/plain": [
       "<Figure size 432x288 with 1 Axes>"
      ]
     },
     "metadata": {
      "needs_background": "light"
     },
     "output_type": "display_data"
    }
   ],
   "source": [
    "plt.scatter(X_scaled[:,0],Y)\n",
    "plt.xlabel('CMR')\n",
    "plt.ylabel('pricing')\n",
    "plt.title('Graph b/w crime rate and pricing')"
   ]
  },
  {
   "cell_type": "code",
   "execution_count": 14,
   "id": "0733e754",
   "metadata": {},
   "outputs": [
    {
     "data": {
      "text/plain": [
       "Text(0.5, 1.0, 'Graph b/w avg no. of rooms and pricing')"
      ]
     },
     "execution_count": 14,
     "metadata": {},
     "output_type": "execute_result"
    },
    {
     "data": {
      "image/png": "[encoded data removed]",
      "text/plain": [
       "<Figure size 432x288 with 1 Axes>"
      ]
     },
     "metadata": {
      "needs_background": "light"
     },
     "output_type": "display_data"
    }
   ],
   "source": [
    "plt.scatter(X_scaled[:,1],Y)\n",
    "plt.xlabel('RM')\n",
    "plt.ylabel('pricing')\n",
    "plt.title('Graph b/w avg no. of rooms and pricing')"
   ]
  },
  {
   "cell_type": "markdown",
   "id": "8c39c497",
   "metadata": {},
   "source": [
    "### Developing a function for the Batch Stochastic gradient descent\n",
    "\n",
    "In batch stochastic gradient descent in each itration or epoch we take the whole dataset and then evaluate the loss, weights and bias. Although this is a nice way of finding out the weights and bias but it's gonna be computationally very expensive when we are dealing with a big data as in each epoch we loads the whole data set."
   ]
  },
  {
   "cell_type": "code",
   "execution_count": 15,
   "id": "2c55108c",
   "metadata": {},
   "outputs": [],
   "source": [
    "def BatchSGD(X,Y_true, epoch, learning_rate = 0.01):\n",
    "    w = np.array([1,1]) # initializing the weights to 1.\n",
    "    b = 0 # initializing the bias to 0.\n",
    "    n = len(X) # n is the total no. of samples.\n",
    "    lt = []\n",
    "    \n",
    "    for i in range(epoch):\n",
    "        # Y_predicted = w1*CMR + w2*RM + b\n",
    "        Y_predicted = np.dot(X,w) + b\n",
    "        \n",
    "        w1 = (-2/n)*(np.sum(X[:,0]*(Y_true - Y_predicted))) # it is partial differential of loss function wrt w1.\n",
    "        w2 = (-2/n)*(np.sum(X[:,1]*(Y_true - Y_predicted))) # it is partial differential of loss function wrt w2.\n",
    "        b1 = (-2/n)*(np.sum(Y_true - Y_predicted)) # it is partial differential of loss function wrt b.\n",
    "        \n",
    "        b = b - (learning_rate*b1) # updating the bias.\n",
    "        w = np.array([ w[0]-(learning_rate*w1), w[1]-(learning_rate*w2) ]) # updating the weights.\n",
    "        \n",
    "        loss = (1/n)*(np.sum((Y_true - Y_predicted)*(Y_true - Y_predicted))) # This Mean squared error loss function\n",
    "        \n",
    "        # this will record the loss after every 10th epoch or iteration.\n",
    "        if i%10 == 0:\n",
    "            lt.append(loss)\n",
    "            \n",
    "    return w,b,lt"
   ]
  },
  {
   "cell_type": "code",
   "execution_count": 16,
   "id": "360a0992",
   "metadata": {},
   "outputs": [
    {
     "data": {
      "text/plain": [
       "(array([-1.49954071, 15.18975866]), 14.89790714165941)"
      ]
     },
     "execution_count": 16,
     "metadata": {},
     "output_type": "execute_result"
    }
   ],
   "source": [
    "w,b,lt = BatchSGD(X_scaled, Y, epoch=500)\n",
    "w,b"
   ]
  },
  {
   "cell_type": "code",
   "execution_count": 17,
   "id": "3d69c14f",
   "metadata": {},
   "outputs": [
    {
     "data": {
      "text/plain": [
       "Text(0.5, 1.0, 'Graph b/w no. of epoches and loss function values')"
      ]
     },
     "execution_count": 17,
     "metadata": {},
     "output_type": "execute_result"
    },
    {
     "data": {
      "image/png": "[encoded data removed]",
      "text/plain": [
       "<Figure size 432x288 with 1 Axes>"
      ]
     },
     "metadata": {
      "needs_background": "light"
     },
     "output_type": "display_data"
    }
   ],
   "source": [
    "plt.plot(np.arange(len(lt)), lt)\n",
    "plt.xlabel('Number of epoches')\n",
    "plt.ylabel('Value of loss function(MSE)')\n",
    "plt.title('Graph b/w no. of epoches and loss function values')"
   ]
  },
  {
   "cell_type": "markdown",
   "id": "94636727",
   "metadata": {},
   "source": [
    "### Developing function for the stochastic gradient descent\n",
    "\n",
    "In stochastic gradient descent we randomly take one sample from the data set in each epoch and it is not computationally that much expensive as in each epoch or iteration it takes only one sample."
   ]
  },
  {
   "cell_type": "code",
   "execution_count": 34,
   "id": "17ea8866",
   "metadata": {},
   "outputs": [],
   "source": [
    "def SGD(X,Y_true,epoch,learning_rate=0.01):\n",
    "    w = np.array([1,1]) # initializing the weights to 1.\n",
    "    b = 0 # initializing the bias to 0.\n",
    "    n = len(X) # n is the total no. of samples.\n",
    "    lt = []\n",
    "    \n",
    "    for i in range(epoch):\n",
    "        target = np.random.randint(0,n-1)\n",
    "        \n",
    "        # Y_predicted = w1*CMR + w2*RM + b\n",
    "        Y_predicted = w[0]*X_scaled[target][0] + w[1]*X_scaled[target][1] + b\n",
    "        \n",
    "        w1 = (-2/n)*(X_scaled[target][0]*(Y_true[target] - Y_predicted))\n",
    "        w2 = (-2/n)*(X_scaled[target][1]*(Y_true[target] - Y_predicted))\n",
    "        b1 = (-2/n)*(Y_true[target]-Y_predicted)\n",
    "        \n",
    "        b = b - (learning_rate*b1) # updating the bias.\n",
    "        w = np.array([ w[0]-(learning_rate*w1), w[1]-(learning_rate*w2) ]) # updating the weights.\n",
    "        \n",
    "        loss = ((Y_true[target] - Y_predicted)*(Y_true[target] - Y_predicted))\n",
    "        \n",
    "        # this will record the loss after every 10th epoch or iteration.\n",
    "        if i%100 == 0:\n",
    "            lt.append(loss)\n",
    "        \n",
    "            \n",
    "    return w,b,lt\n",
    "        "
   ]
  },
  {
   "cell_type": "code",
   "execution_count": 37,
   "id": "178aaa5f",
   "metadata": {},
   "outputs": [],
   "source": [
    "w,b,lt = SGD(X_scaled, Y, epoch=100000)"
   ]
  },
  {
   "cell_type": "code",
   "execution_count": 40,
   "id": "f677135c",
   "metadata": {},
   "outputs": [
    {
     "data": {
      "text/plain": [
       "Text(0.5, 1.0, 'Graph b/w no. of epoches and loss function values')"
      ]
     },
     "execution_count": 40,
     "metadata": {},
     "output_type": "execute_result"
    },
    {
     "data": {
      "image/png": "[encoded data removed]",
      "text/plain": [
       "<Figure size 432x288 with 1 Axes>"
      ]
     },
     "metadata": {
      "needs_background": "light"
     },
     "output_type": "display_data"
    }
   ],
   "source": [
    "plt.plot(np.arange(len(lt)), lt)\n",
    "plt.xlabel('Number of epoches')\n",
    "plt.ylabel('Value of loss function(MSE)')\n",
    "plt.title('Graph b/w no. of epoches and loss function values')"
   ]
  },
  {
   "cell_type": "code",
   "execution_count": 39,
   "id": "6e4ef618",
   "metadata": {},
   "outputs": [
    {
     "data": {
      "text/plain": [
       "(array([ 0.36682389, 12.26085756]), 16.28393871607582)"
      ]
     },
     "execution_count": 39,
     "metadata": {},
     "output_type": "execute_result"
    }
   ],
   "source": [
    "w,b"
   ]
  },
  {
   "cell_type": "code",
   "execution_count": null,
   "id": "610fedb9",
   "metadata": {},
   "outputs": [],
   "source": []
  }
 ],
 "metadata": {
  "kernelspec": {
   "display_name": "Python 3 (ipykernel)",
   "language": "python",
   "name": "python3"
  },
  "language_info": {
   "codemirror_mode": {
    "name": "ipython",
    "version": 3
   },
   "file_extension": ".py",
   "mimetype": "text/x-python",
   "name": "python",
   "nbconvert_exporter": "python",
   "pygments_lexer": "ipython3",
   "version": "3.9.10"
  }
 },
 "nbformat": 4,
 "nbformat_minor": 5
}
