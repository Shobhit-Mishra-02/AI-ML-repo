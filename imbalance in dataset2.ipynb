{
 "cells": [
  {
   "cell_type": "markdown",
   "id": "78888777",
   "metadata": {},
   "source": [
    "# Imbalance in the dataset"
   ]
  },
  {
   "cell_type": "code",
   "execution_count": 1,
   "id": "f10a170d",
   "metadata": {},
   "outputs": [],
   "source": [
    "import numpy as np\n",
    "import pandas as pd\n",
    "import matplotlib.pyplot as plt\n",
    "from tensorflow import keras"
   ]
  },
  {
   "cell_type": "code",
   "execution_count": 2,
   "id": "d905566f",
   "metadata": {},
   "outputs": [],
   "source": [
    "df = pd.read_csv(\"Churn_Modelling.csv\")"
   ]
  },
  {
   "cell_type": "code",
   "execution_count": 3,
   "id": "a0be87d9",
   "metadata": {
    "scrolled": true
   },
   "outputs": [
    {
     "data": {
      "text/html": [
       "<div>\n",
       "<style scoped>\n",
       "    .dataframe tbody tr th:only-of-type {\n",
       "        vertical-align: middle;\n",
       "    }\n",
       "\n",
       "    .dataframe tbody tr th {\n",
       "        vertical-align: top;\n",
       "    }\n",
       "\n",
       "    .dataframe thead th {\n",
       "        text-align: right;\n",
       "    }\n",
       "</style>\n",
       "<table border=\"1\" class=\"dataframe\">\n",
       "  <thead>\n",
       "    <tr style=\"text-align: right;\">\n",
       "      <th></th>\n",
       "      <th>RowNumber</th>\n",
       "      <th>CustomerId</th>\n",
       "      <th>Surname</th>\n",
       "      <th>CreditScore</th>\n",
       "      <th>Geography</th>\n",
       "      <th>Gender</th>\n",
       "      <th>Age</th>\n",
       "      <th>Tenure</th>\n",
       "      <th>Balance</th>\n",
       "      <th>NumOfProducts</th>\n",
       "      <th>HasCrCard</th>\n",
       "      <th>IsActiveMember</th>\n",
       "      <th>EstimatedSalary</th>\n",
       "      <th>Exited</th>\n",
       "    </tr>\n",
       "  </thead>\n",
       "  <tbody>\n",
       "    <tr>\n",
       "      <th>0</th>\n",
       "      <td>1</td>\n",
       "      <td>15634602</td>\n",
       "      <td>Hargrave</td>\n",
       "      <td>619</td>\n",
       "      <td>France</td>\n",
       "      <td>Female</td>\n",
       "      <td>42</td>\n",
       "      <td>2</td>\n",
       "      <td>0.00</td>\n",
       "      <td>1</td>\n",
       "      <td>1</td>\n",
       "      <td>1</td>\n",
       "      <td>101348.88</td>\n",
       "      <td>1</td>\n",
       "    </tr>\n",
       "    <tr>\n",
       "      <th>1</th>\n",
       "      <td>2</td>\n",
       "      <td>15647311</td>\n",
       "      <td>Hill</td>\n",
       "      <td>608</td>\n",
       "      <td>Spain</td>\n",
       "      <td>Female</td>\n",
       "      <td>41</td>\n",
       "      <td>1</td>\n",
       "      <td>83807.86</td>\n",
       "      <td>1</td>\n",
       "      <td>0</td>\n",
       "      <td>1</td>\n",
       "      <td>112542.58</td>\n",
       "      <td>0</td>\n",
       "    </tr>\n",
       "    <tr>\n",
       "      <th>2</th>\n",
       "      <td>3</td>\n",
       "      <td>15619304</td>\n",
       "      <td>Onio</td>\n",
       "      <td>502</td>\n",
       "      <td>France</td>\n",
       "      <td>Female</td>\n",
       "      <td>42</td>\n",
       "      <td>8</td>\n",
       "      <td>159660.80</td>\n",
       "      <td>3</td>\n",
       "      <td>1</td>\n",
       "      <td>0</td>\n",
       "      <td>113931.57</td>\n",
       "      <td>1</td>\n",
       "    </tr>\n",
       "    <tr>\n",
       "      <th>3</th>\n",
       "      <td>4</td>\n",
       "      <td>15701354</td>\n",
       "      <td>Boni</td>\n",
       "      <td>699</td>\n",
       "      <td>France</td>\n",
       "      <td>Female</td>\n",
       "      <td>39</td>\n",
       "      <td>1</td>\n",
       "      <td>0.00</td>\n",
       "      <td>2</td>\n",
       "      <td>0</td>\n",
       "      <td>0</td>\n",
       "      <td>93826.63</td>\n",
       "      <td>0</td>\n",
       "    </tr>\n",
       "    <tr>\n",
       "      <th>4</th>\n",
       "      <td>5</td>\n",
       "      <td>15737888</td>\n",
       "      <td>Mitchell</td>\n",
       "      <td>850</td>\n",
       "      <td>Spain</td>\n",
       "      <td>Female</td>\n",
       "      <td>43</td>\n",
       "      <td>2</td>\n",
       "      <td>125510.82</td>\n",
       "      <td>1</td>\n",
       "      <td>1</td>\n",
       "      <td>1</td>\n",
       "      <td>79084.10</td>\n",
       "      <td>0</td>\n",
       "    </tr>\n",
       "  </tbody>\n",
       "</table>\n",
       "</div>"
      ],
      "text/plain": [
       "   RowNumber  CustomerId   Surname  CreditScore Geography  Gender  Age  \\\n",
       "0          1    15634602  Hargrave          619    France  Female   42   \n",
       "1          2    15647311      Hill          608     Spain  Female   41   \n",
       "2          3    15619304      Onio          502    France  Female   42   \n",
       "3          4    15701354      Boni          699    France  Female   39   \n",
       "4          5    15737888  Mitchell          850     Spain  Female   43   \n",
       "\n",
       "   Tenure    Balance  NumOfProducts  HasCrCard  IsActiveMember  \\\n",
       "0       2       0.00              1          1               1   \n",
       "1       1   83807.86              1          0               1   \n",
       "2       8  159660.80              3          1               0   \n",
       "3       1       0.00              2          0               0   \n",
       "4       2  125510.82              1          1               1   \n",
       "\n",
       "   EstimatedSalary  Exited  \n",
       "0        101348.88       1  \n",
       "1        112542.58       0  \n",
       "2        113931.57       1  \n",
       "3         93826.63       0  \n",
       "4         79084.10       0  "
      ]
     },
     "execution_count": 3,
     "metadata": {},
     "output_type": "execute_result"
    }
   ],
   "source": [
    "df.head()"
   ]
  },
  {
   "cell_type": "code",
   "execution_count": 4,
   "id": "887b58db",
   "metadata": {},
   "outputs": [],
   "source": [
    "df.drop([\"RowNumber\",\"CustomerId\", \"Surname\",\"Geography\"], axis=1, inplace=True)"
   ]
  },
  {
   "cell_type": "code",
   "execution_count": 5,
   "id": "3c6175fd",
   "metadata": {},
   "outputs": [
    {
     "name": "stdout",
     "output_type": "stream",
     "text": [
      "<class 'pandas.core.frame.DataFrame'>\n",
      "RangeIndex: 10000 entries, 0 to 9999\n",
      "Data columns (total 10 columns):\n",
      " #   Column           Non-Null Count  Dtype  \n",
      "---  ------           --------------  -----  \n",
      " 0   CreditScore      10000 non-null  int64  \n",
      " 1   Age              10000 non-null  int64  \n",
      " 2   Tenure           10000 non-null  int64  \n",
      " 3   Balance          10000 non-null  float64\n",
      " 4   NumOfProducts    10000 non-null  int64  \n",
      " 5   HasCrCard        10000 non-null  int64  \n",
      " 6   IsActiveMember   10000 non-null  int64  \n",
      " 7   EstimatedSalary  10000 non-null  float64\n",
      " 8   Exited           10000 non-null  int64  \n",
      " 9   Gender_Male      10000 non-null  uint8  \n",
      "dtypes: float64(2), int64(7), uint8(1)\n",
      "memory usage: 713.0 KB\n"
     ]
    }
   ],
   "source": [
    "df1 = pd.get_dummies(df, drop_first=True).copy()\n",
    "df1.info()"
   ]
  },
  {
   "cell_type": "code",
   "execution_count": 6,
   "id": "9372f6a0",
   "metadata": {},
   "outputs": [
    {
     "data": {
      "text/plain": [
       "0    7963\n",
       "1    2037\n",
       "Name: Exited, dtype: int64"
      ]
     },
     "execution_count": 6,
     "metadata": {},
     "output_type": "execute_result"
    }
   ],
   "source": [
    "df1.Exited.value_counts()"
   ]
  },
  {
   "cell_type": "code",
   "execution_count": 7,
   "id": "069ef12d",
   "metadata": {},
   "outputs": [],
   "source": [
    "from sklearn.metrics import classification_report, confusion_matrix\n",
    "\n",
    "# This function will create an artificial neural network and return confusion matrix, accuracy and loss\n",
    "def ANN_performance(X_train,X_test,Y_train, Y_test , epochs, batch_size=-1):\n",
    "    \n",
    "    # Building the model\n",
    "    model = keras.Sequential([\n",
    "        keras.layers.Dense(6, input_shape=(9,), activation=\"relu\"),\n",
    "        keras.layers.Dense(3, activation=\"relu\"),\n",
    "        keras.layers.Dense(1, activation=\"sigmoid\")\n",
    "    ])\n",
    "    \n",
    "    model.compile(\n",
    "        optimizer=\"adam\",\n",
    "        loss=keras.losses.binary_crossentropy,\n",
    "        metrics=[\"accuracy\"]\n",
    "    )\n",
    "    \n",
    "    if(batch_size == -1):\n",
    "        model.fit(X_train,Y_train, epochs=epochs)\n",
    "    else:\n",
    "        model.fit(X_train,Y_train, epochs=epochs, batch_size=batch_size)\n",
    "    \n",
    "    accuracy = model.history.history[\"accuracy\"]\n",
    "    loss = model.history.history[\"loss\"]\n",
    "    \n",
    "    # Making the prediction\n",
    "    lt = model.predict(X_test)\n",
    "    \n",
    "    Y_pred = []\n",
    "    \n",
    "    for i in lt.reshape(-1,):\n",
    "        Y_pred.append(np.round(i)) # rounding the predicted value and appending it in an array.\n",
    "    \n",
    "    confusionMatrix = confusion_matrix(Y_test, Y_pred)\n",
    "\n",
    "    \n",
    "    print(classification_report(Y_test, Y_pred))\n",
    "    \n",
    "    return confusionMatrix, accuracy, loss"
   ]
  },
  {
   "cell_type": "code",
   "execution_count": 8,
   "id": "58048482",
   "metadata": {},
   "outputs": [
    {
     "data": {
      "text/plain": [
       "(7963, 2037)"
      ]
     },
     "execution_count": 8,
     "metadata": {},
     "output_type": "execute_result"
    }
   ],
   "source": [
    "target_0_count = df1.Exited.value_counts()[0]\n",
    "target_1_count = df1.Exited.value_counts()[1]\n",
    "\n",
    "target_0_count, target_1_count"
   ]
  },
  {
   "cell_type": "code",
   "execution_count": 9,
   "id": "13b55ba6",
   "metadata": {},
   "outputs": [],
   "source": [
    "# undersampling "
   ]
  },
  {
   "cell_type": "code",
   "execution_count": 10,
   "id": "a28638b3",
   "metadata": {},
   "outputs": [],
   "source": [
    "df2 = pd.concat([df1[df1.Exited == 0].sample(target_1_count), df1[df1.Exited == 1]], axis=0)"
   ]
  },
  {
   "cell_type": "code",
   "execution_count": 11,
   "id": "9c487181",
   "metadata": {},
   "outputs": [],
   "source": [
    "from sklearn.model_selection import train_test_split\n",
    "\n",
    "X_train_us, X_test_us, Y_train_us, Y_test_us = train_test_split(df2.drop([\"Exited\"], axis=1), df2.Exited, test_size=0.2, stratify=df2.Exited, random_state=42)"
   ]
  },
  {
   "cell_type": "code",
   "execution_count": 12,
   "id": "b376391e",
   "metadata": {},
   "outputs": [
    {
     "data": {
      "text/plain": [
       "(3259, 9)"
      ]
     },
     "execution_count": 12,
     "metadata": {},
     "output_type": "execute_result"
    }
   ],
   "source": [
    "X_train_us.shape"
   ]
  },
  {
   "cell_type": "code",
   "execution_count": 13,
   "id": "0fb53e4a",
   "metadata": {},
   "outputs": [
    {
     "data": {
      "text/plain": [
       "(3259,)"
      ]
     },
     "execution_count": 13,
     "metadata": {},
     "output_type": "execute_result"
    }
   ],
   "source": [
    "Y_train_us.shape"
   ]
  },
  {
   "cell_type": "code",
   "execution_count": 14,
   "id": "f6451123",
   "metadata": {},
   "outputs": [
    {
     "data": {
      "text/plain": [
       "1    1630\n",
       "0    1629\n",
       "Name: Exited, dtype: int64"
      ]
     },
     "execution_count": 14,
     "metadata": {},
     "output_type": "execute_result"
    }
   ],
   "source": [
    "Y_train_us.value_counts()"
   ]
  },
  {
   "cell_type": "code",
   "execution_count": 15,
   "id": "084db750",
   "metadata": {},
   "outputs": [
    {
     "name": "stdout",
     "output_type": "stream",
     "text": [
      "Epoch 1/100\n",
      "102/102 [==============================] - 1s 2ms/step - loss: 11576.9023 - accuracy: 0.5670\n",
      "Epoch 2/100\n",
      "102/102 [==============================] - 0s 2ms/step - loss: 3288.3660 - accuracy: 0.5373\n",
      "Epoch 3/100\n",
      "102/102 [==============================] - 0s 2ms/step - loss: 1011.0158 - accuracy: 0.5244\n",
      "Epoch 4/100\n",
      "102/102 [==============================] - 0s 2ms/step - loss: 456.4133 - accuracy: 0.5250\n",
      "Epoch 5/100\n",
      "102/102 [==============================] - 0s 2ms/step - loss: 226.0256 - accuracy: 0.5143\n",
      "Epoch 6/100\n",
      "102/102 [==============================] - 0s 2ms/step - loss: 115.9909 - accuracy: 0.5084\n",
      "Epoch 7/100\n",
      "102/102 [==============================] - 0s 2ms/step - loss: 67.8088 - accuracy: 0.5057\n",
      "Epoch 8/100\n",
      "102/102 [==============================] - 0s 2ms/step - loss: 39.8178 - accuracy: 0.5041\n",
      "Epoch 9/100\n",
      "102/102 [==============================] - 0s 2ms/step - loss: 23.3471 - accuracy: 0.5023\n",
      "Epoch 10/100\n",
      "102/102 [==============================] - 0s 2ms/step - loss: 13.7393 - accuracy: 0.5017\n",
      "Epoch 11/100\n",
      "102/102 [==============================] - 0s 2ms/step - loss: 7.1638 - accuracy: 0.4986\n",
      "Epoch 12/100\n",
      "102/102 [==============================] - 0s 2ms/step - loss: 3.2912 - accuracy: 0.4983\n",
      "Epoch 13/100\n",
      "102/102 [==============================] - 0s 2ms/step - loss: 1.5481 - accuracy: 0.5002\n",
      "Epoch 14/100\n",
      "102/102 [==============================] - 0s 2ms/step - loss: 1.0796 - accuracy: 0.5008\n",
      "Epoch 15/100\n",
      "102/102 [==============================] - 0s 2ms/step - loss: 0.9220 - accuracy: 0.5008\n",
      "Epoch 16/100\n",
      "102/102 [==============================] - 0s 2ms/step - loss: 0.8264 - accuracy: 0.5008\n",
      "Epoch 17/100\n",
      "102/102 [==============================] - 0s 2ms/step - loss: 0.7713 - accuracy: 0.5005\n",
      "Epoch 18/100\n",
      "102/102 [==============================] - 0s 2ms/step - loss: 0.7570 - accuracy: 0.5005\n",
      "Epoch 19/100\n",
      "102/102 [==============================] - 0s 2ms/step - loss: 0.7495 - accuracy: 0.5005\n",
      "Epoch 20/100\n",
      "102/102 [==============================] - 0s 2ms/step - loss: 0.7400 - accuracy: 0.5005\n",
      "Epoch 21/100\n",
      "102/102 [==============================] - 0s 2ms/step - loss: 0.7304 - accuracy: 0.4900\n",
      "Epoch 22/100\n",
      "102/102 [==============================] - 0s 2ms/step - loss: 0.7214 - accuracy: 0.4820\n",
      "Epoch 23/100\n",
      "102/102 [==============================] - 0s 2ms/step - loss: 0.7126 - accuracy: 0.4937\n",
      "Epoch 24/100\n",
      "102/102 [==============================] - 0s 2ms/step - loss: 0.7084 - accuracy: 0.4787\n",
      "Epoch 25/100\n",
      "102/102 [==============================] - 0s 2ms/step - loss: 0.7052 - accuracy: 0.4989\n",
      "Epoch 26/100\n",
      "102/102 [==============================] - 0s 2ms/step - loss: 0.7022 - accuracy: 0.4876\n",
      "Epoch 27/100\n",
      "102/102 [==============================] - 0s 2ms/step - loss: 0.6996 - accuracy: 0.4995\n",
      "Epoch 28/100\n",
      "102/102 [==============================] - 0s 2ms/step - loss: 0.6983 - accuracy: 0.4799\n",
      "Epoch 29/100\n",
      "102/102 [==============================] - 0s 3ms/step - loss: 0.6976 - accuracy: 0.5008\n",
      "Epoch 30/100\n",
      "102/102 [==============================] - 0s 2ms/step - loss: 0.6971 - accuracy: 0.4934\n",
      "Epoch 31/100\n",
      "102/102 [==============================] - 0s 2ms/step - loss: 0.6963 - accuracy: 0.4971\n",
      "Epoch 32/100\n",
      "102/102 [==============================] - 0s 2ms/step - loss: 0.6953 - accuracy: 0.4928\n",
      "Epoch 33/100\n",
      "102/102 [==============================] - 0s 2ms/step - loss: 0.6944 - accuracy: 0.5002\n",
      "Epoch 34/100\n",
      "102/102 [==============================] - 0s 2ms/step - loss: 0.6936 - accuracy: 0.4738\n",
      "Epoch 35/100\n",
      "102/102 [==============================] - 0s 2ms/step - loss: 0.6932 - accuracy: 0.4925\n",
      "Epoch 36/100\n",
      "102/102 [==============================] - 0s 2ms/step - loss: 0.6929 - accuracy: 0.4968\n",
      "Epoch 37/100\n",
      "102/102 [==============================] - 0s 2ms/step - loss: 0.6927 - accuracy: 0.5005\n",
      "Epoch 38/100\n",
      "102/102 [==============================] - 0s 2ms/step - loss: 0.6925 - accuracy: 0.4946\n",
      "Epoch 39/100\n",
      "102/102 [==============================] - 0s 2ms/step - loss: 0.6925 - accuracy: 0.5005\n",
      "Epoch 40/100\n",
      "102/102 [==============================] - 0s 2ms/step - loss: 0.6925 - accuracy: 0.4894\n",
      "Epoch 41/100\n",
      "102/102 [==============================] - 0s 2ms/step - loss: 0.6926 - accuracy: 0.4885\n",
      "Epoch 42/100\n",
      "102/102 [==============================] - 0s 2ms/step - loss: 0.6925 - accuracy: 0.4952\n",
      "Epoch 43/100\n",
      "102/102 [==============================] - 0s 2ms/step - loss: 0.6925 - accuracy: 0.4916\n",
      "Epoch 44/100\n",
      "102/102 [==============================] - 0s 2ms/step - loss: 0.6925 - accuracy: 0.4925\n",
      "Epoch 45/100\n",
      "102/102 [==============================] - 0s 2ms/step - loss: 0.6925 - accuracy: 0.4913\n",
      "Epoch 46/100\n",
      "102/102 [==============================] - 0s 2ms/step - loss: 0.6925 - accuracy: 0.4925\n",
      "Epoch 47/100\n",
      "102/102 [==============================] - 0s 2ms/step - loss: 0.6926 - accuracy: 0.4879\n",
      "Epoch 48/100\n",
      "102/102 [==============================] - 0s 2ms/step - loss: 0.6925 - accuracy: 0.4906\n",
      "Epoch 49/100\n",
      "102/102 [==============================] - 0s 2ms/step - loss: 0.6925 - accuracy: 0.4909\n",
      "Epoch 50/100\n",
      "102/102 [==============================] - 0s 1ms/step - loss: 0.6925 - accuracy: 0.5005\n",
      "Epoch 51/100\n",
      "102/102 [==============================] - 0s 1ms/step - loss: 0.6925 - accuracy: 0.4946\n",
      "Epoch 52/100\n",
      "102/102 [==============================] - 0s 2ms/step - loss: 0.6925 - accuracy: 0.4842\n",
      "Epoch 53/100\n",
      "102/102 [==============================] - 0s 2ms/step - loss: 0.6925 - accuracy: 0.4916\n",
      "Epoch 54/100\n",
      "102/102 [==============================] - 0s 1ms/step - loss: 0.6926 - accuracy: 0.4833\n",
      "Epoch 55/100\n",
      "102/102 [==============================] - 0s 2ms/step - loss: 0.6926 - accuracy: 0.5005\n",
      "Epoch 56/100\n",
      "102/102 [==============================] - 0s 2ms/step - loss: 0.6925 - accuracy: 0.5005\n",
      "Epoch 57/100\n",
      "102/102 [==============================] - 0s 1ms/step - loss: 0.6925 - accuracy: 0.4922\n",
      "Epoch 58/100\n",
      "102/102 [==============================] - 0s 2ms/step - loss: 0.6925 - accuracy: 0.4919\n",
      "Epoch 59/100\n",
      "102/102 [==============================] - 0s 2ms/step - loss: 0.6926 - accuracy: 0.4845\n",
      "Epoch 60/100\n",
      "102/102 [==============================] - 0s 2ms/step - loss: 0.6925 - accuracy: 0.4814\n",
      "Epoch 61/100\n",
      "102/102 [==============================] - 0s 2ms/step - loss: 0.6926 - accuracy: 0.4928\n",
      "Epoch 62/100\n",
      "102/102 [==============================] - 0s 1ms/step - loss: 0.6925 - accuracy: 0.4870\n",
      "Epoch 63/100\n",
      "102/102 [==============================] - 0s 2ms/step - loss: 0.6925 - accuracy: 0.5005\n",
      "Epoch 64/100\n",
      "102/102 [==============================] - 0s 2ms/step - loss: 0.6925 - accuracy: 0.4943\n",
      "Epoch 65/100\n",
      "102/102 [==============================] - 0s 1ms/step - loss: 0.6925 - accuracy: 0.4956\n",
      "Epoch 66/100\n",
      "102/102 [==============================] - 0s 2ms/step - loss: 0.6925 - accuracy: 0.4998\n",
      "Epoch 67/100\n",
      "102/102 [==============================] - 0s 2ms/step - loss: 0.6926 - accuracy: 0.4992\n",
      "Epoch 68/100\n",
      "102/102 [==============================] - 0s 1ms/step - loss: 0.6925 - accuracy: 0.5002\n",
      "Epoch 69/100\n",
      "102/102 [==============================] - 0s 1ms/step - loss: 0.6925 - accuracy: 0.5005\n",
      "Epoch 70/100\n",
      "102/102 [==============================] - 0s 2ms/step - loss: 0.6926 - accuracy: 0.5005\n",
      "Epoch 71/100\n",
      "102/102 [==============================] - 0s 2ms/step - loss: 0.6925 - accuracy: 0.4897\n",
      "Epoch 72/100\n",
      "102/102 [==============================] - 0s 2ms/step - loss: 0.6925 - accuracy: 0.4842\n",
      "Epoch 73/100\n",
      "102/102 [==============================] - 0s 2ms/step - loss: 0.6925 - accuracy: 0.5005\n",
      "Epoch 74/100\n",
      "102/102 [==============================] - 0s 2ms/step - loss: 0.6926 - accuracy: 0.4906\n",
      "Epoch 75/100\n",
      "102/102 [==============================] - 0s 2ms/step - loss: 0.6925 - accuracy: 0.4937\n",
      "Epoch 76/100\n",
      "102/102 [==============================] - 0s 2ms/step - loss: 0.6925 - accuracy: 0.4931\n",
      "Epoch 77/100\n",
      "102/102 [==============================] - 0s 2ms/step - loss: 0.6925 - accuracy: 0.5005\n",
      "Epoch 78/100\n",
      "102/102 [==============================] - 0s 2ms/step - loss: 0.6925 - accuracy: 0.4925\n",
      "Epoch 79/100\n",
      "102/102 [==============================] - 0s 2ms/step - loss: 0.6925 - accuracy: 0.5017\n",
      "Epoch 80/100\n",
      "102/102 [==============================] - 0s 2ms/step - loss: 0.6925 - accuracy: 0.4765\n",
      "Epoch 81/100\n"
     ]
    },
    {
     "name": "stdout",
     "output_type": "stream",
     "text": [
      "102/102 [==============================] - 0s 2ms/step - loss: 0.6926 - accuracy: 0.4974\n",
      "Epoch 82/100\n",
      "102/102 [==============================] - 0s 2ms/step - loss: 0.6925 - accuracy: 0.4894\n",
      "Epoch 83/100\n",
      "102/102 [==============================] - 0s 2ms/step - loss: 0.6925 - accuracy: 0.4839\n",
      "Epoch 84/100\n",
      "102/102 [==============================] - 0s 2ms/step - loss: 0.6926 - accuracy: 0.4913\n",
      "Epoch 85/100\n",
      "102/102 [==============================] - 0s 2ms/step - loss: 0.6926 - accuracy: 0.5017\n",
      "Epoch 86/100\n",
      "102/102 [==============================] - 0s 2ms/step - loss: 0.6925 - accuracy: 0.4968\n",
      "Epoch 87/100\n",
      "102/102 [==============================] - 0s 2ms/step - loss: 0.6925 - accuracy: 0.4940\n",
      "Epoch 88/100\n",
      "102/102 [==============================] - 0s 2ms/step - loss: 0.6925 - accuracy: 0.5005\n",
      "Epoch 89/100\n",
      "102/102 [==============================] - 0s 2ms/step - loss: 0.6925 - accuracy: 0.4992\n",
      "Epoch 90/100\n",
      "102/102 [==============================] - 0s 2ms/step - loss: 0.6925 - accuracy: 0.4741\n",
      "Epoch 91/100\n",
      "102/102 [==============================] - 0s 2ms/step - loss: 0.6925 - accuracy: 0.4919\n",
      "Epoch 92/100\n",
      "102/102 [==============================] - 0s 2ms/step - loss: 0.6925 - accuracy: 0.4863\n",
      "Epoch 93/100\n",
      "102/102 [==============================] - 0s 2ms/step - loss: 0.6925 - accuracy: 0.4888\n",
      "Epoch 94/100\n",
      "102/102 [==============================] - 0s 2ms/step - loss: 0.6925 - accuracy: 0.4888\n",
      "Epoch 95/100\n",
      "102/102 [==============================] - 0s 2ms/step - loss: 0.6925 - accuracy: 0.4934\n",
      "Epoch 96/100\n",
      "102/102 [==============================] - 0s 2ms/step - loss: 0.6925 - accuracy: 0.5005\n",
      "Epoch 97/100\n",
      "102/102 [==============================] - 0s 2ms/step - loss: 0.6925 - accuracy: 0.4679\n",
      "Epoch 98/100\n",
      "102/102 [==============================] - 0s 2ms/step - loss: 0.6925 - accuracy: 0.4900\n",
      "Epoch 99/100\n",
      "102/102 [==============================] - 0s 2ms/step - loss: 0.6926 - accuracy: 0.4827\n",
      "Epoch 100/100\n",
      "102/102 [==============================] - 0s 2ms/step - loss: 0.6926 - accuracy: 0.5005\n",
      "26/26 [==============================] - 0s 1ms/step\n",
      "              precision    recall  f1-score   support\n",
      "\n",
      "           0       0.50      1.00      0.67       408\n",
      "           1       1.00      0.00      0.00       407\n",
      "\n",
      "    accuracy                           0.50       815\n",
      "   macro avg       0.75      0.50      0.34       815\n",
      "weighted avg       0.75      0.50      0.34       815\n",
      "\n"
     ]
    }
   ],
   "source": [
    "confusionMatrix_us, accur_us, loss_us = ANN_performance(X_train_us, X_test_us, Y_train_us, Y_test_us, epochs=100)"
   ]
  },
  {
   "cell_type": "code",
   "execution_count": 16,
   "id": "d2441bb7",
   "metadata": {},
   "outputs": [],
   "source": [
    "from sklearn.metrics import ConfusionMatrixDisplay\n",
    "\n",
    "def displayConfusion(confusion_matrix):\n",
    "    con = ConfusionMatrixDisplay(confusion_matrix)\n",
    "    con.plot()\n",
    "\n",
    "def accurGraph(accur, title):\n",
    "    plt.plot(np.arange(len(accur)), accur)\n",
    "    plt.xlabel(\"epoches\")\n",
    "    plt.ylabel(\"accuracy\")\n",
    "    plt.title(title)"
   ]
  },
  {
   "cell_type": "code",
   "execution_count": 17,
   "id": "274100d8",
   "metadata": {},
   "outputs": [
    {
     "data": {
      "image/png": "[encoded data removed]",
      "text/plain": [
       "<Figure size 432x288 with 2 Axes>"
      ]
     },
     "metadata": {
      "needs_background": "light"
     },
     "output_type": "display_data"
    }
   ],
   "source": [
    "displayConfusion(confusionMatrix_us)"
   ]
  },
  {
   "cell_type": "code",
   "execution_count": 18,
   "id": "48973f59",
   "metadata": {},
   "outputs": [
    {
     "data": {
      "image/png": "[encoded data removed]",
      "text/plain": [
       "<Figure size 432x288 with 1 Axes>"
      ]
     },
     "metadata": {
      "needs_background": "light"
     },
     "output_type": "display_data"
    }
   ],
   "source": [
    "accurGraph(accur_us, title=\"Graph for accuracy in undersampling\")"
   ]
  },
  {
   "cell_type": "code",
   "execution_count": 19,
   "id": "6f35a005",
   "metadata": {},
   "outputs": [],
   "source": [
    "# oversampling"
   ]
  },
  {
   "cell_type": "code",
   "execution_count": 20,
   "id": "07c3347f",
   "metadata": {},
   "outputs": [],
   "source": [
    "df3 = pd.concat([df1[df1.Exited == 1].sample(target_0_count, replace=True), df1[df1.Exited == 0]], axis=0)"
   ]
  },
  {
   "cell_type": "code",
   "execution_count": 21,
   "id": "1ac0e02a",
   "metadata": {},
   "outputs": [
    {
     "data": {
      "text/plain": [
       "(15926, 10)"
      ]
     },
     "execution_count": 21,
     "metadata": {},
     "output_type": "execute_result"
    }
   ],
   "source": [
    "df3.shape"
   ]
  },
  {
   "cell_type": "code",
   "execution_count": 22,
   "id": "c6979394",
   "metadata": {},
   "outputs": [],
   "source": [
    "X_train_os, X_test_os, Y_train_os, Y_test_os = train_test_split(df3.drop([\"Exited\"], axis=1), df3.Exited, test_size=0.2, stratify=df3.Exited, random_state=42)"
   ]
  },
  {
   "cell_type": "code",
   "execution_count": 23,
   "id": "852392ad",
   "metadata": {},
   "outputs": [
    {
     "data": {
      "text/plain": [
       "(12740, 9)"
      ]
     },
     "execution_count": 23,
     "metadata": {},
     "output_type": "execute_result"
    }
   ],
   "source": [
    "X_train_os.shape"
   ]
  },
  {
   "cell_type": "code",
   "execution_count": 24,
   "id": "c08d879a",
   "metadata": {},
   "outputs": [
    {
     "data": {
      "text/plain": [
       "(12740,)"
      ]
     },
     "execution_count": 24,
     "metadata": {},
     "output_type": "execute_result"
    }
   ],
   "source": [
    "Y_train_os.shape"
   ]
  },
  {
   "cell_type": "code",
   "execution_count": 25,
   "id": "c5bb03da",
   "metadata": {},
   "outputs": [
    {
     "name": "stdout",
     "output_type": "stream",
     "text": [
      "Epoch 1/100\n",
      "399/399 [==============================] - 1s 2ms/step - loss: 2989.3105 - accuracy: 0.4814\n",
      "Epoch 2/100\n",
      "399/399 [==============================] - 1s 2ms/step - loss: 162.2502 - accuracy: 0.5339\n",
      "Epoch 3/100\n",
      "399/399 [==============================] - 1s 2ms/step - loss: 52.9364 - accuracy: 0.5326\n",
      "Epoch 4/100\n",
      "399/399 [==============================] - 1s 2ms/step - loss: 26.3191 - accuracy: 0.5280\n",
      "Epoch 5/100\n",
      "399/399 [==============================] - 1s 2ms/step - loss: 24.6162 - accuracy: 0.5285\n",
      "Epoch 6/100\n",
      "399/399 [==============================] - 1s 2ms/step - loss: 26.0119 - accuracy: 0.5229\n",
      "Epoch 7/100\n",
      "399/399 [==============================] - 1s 2ms/step - loss: 22.4096 - accuracy: 0.5311\n",
      "Epoch 8/100\n",
      "399/399 [==============================] - 1s 2ms/step - loss: 18.9752 - accuracy: 0.5276\n",
      "Epoch 9/100\n",
      "399/399 [==============================] - 1s 2ms/step - loss: 22.4920 - accuracy: 0.5305\n",
      "Epoch 10/100\n",
      "399/399 [==============================] - 1s 2ms/step - loss: 20.9666 - accuracy: 0.5256\n",
      "Epoch 11/100\n",
      "399/399 [==============================] - 1s 2ms/step - loss: 25.3383 - accuracy: 0.5228\n",
      "Epoch 12/100\n",
      "399/399 [==============================] - 1s 2ms/step - loss: 19.0052 - accuracy: 0.5393\n",
      "Epoch 13/100\n",
      "399/399 [==============================] - 1s 2ms/step - loss: 19.4384 - accuracy: 0.5337\n",
      "Epoch 14/100\n",
      "399/399 [==============================] - 1s 2ms/step - loss: 23.9150 - accuracy: 0.5259\n",
      "Epoch 15/100\n",
      "399/399 [==============================] - 1s 2ms/step - loss: 21.0217 - accuracy: 0.5366\n",
      "Epoch 16/100\n",
      "399/399 [==============================] - 1s 2ms/step - loss: 18.7862 - accuracy: 0.5367\n",
      "Epoch 17/100\n",
      "399/399 [==============================] - 1s 2ms/step - loss: 20.4377 - accuracy: 0.5275\n",
      "Epoch 18/100\n",
      "399/399 [==============================] - 1s 2ms/step - loss: 18.4908 - accuracy: 0.5510\n",
      "Epoch 19/100\n",
      "399/399 [==============================] - 1s 2ms/step - loss: 22.4964 - accuracy: 0.5385\n",
      "Epoch 20/100\n",
      "399/399 [==============================] - 1s 2ms/step - loss: 21.2870 - accuracy: 0.5398\n",
      "Epoch 21/100\n",
      "399/399 [==============================] - 1s 2ms/step - loss: 18.9409 - accuracy: 0.5390\n",
      "Epoch 22/100\n",
      "399/399 [==============================] - 1s 2ms/step - loss: 21.5336 - accuracy: 0.5416\n",
      "Epoch 23/100\n",
      "399/399 [==============================] - 1s 2ms/step - loss: 20.6031 - accuracy: 0.5423\n",
      "Epoch 24/100\n",
      "399/399 [==============================] - 1s 2ms/step - loss: 19.5438 - accuracy: 0.5392\n",
      "Epoch 25/100\n",
      "399/399 [==============================] - 1s 2ms/step - loss: 18.6387 - accuracy: 0.5461\n",
      "Epoch 26/100\n",
      "399/399 [==============================] - 1s 2ms/step - loss: 20.4635 - accuracy: 0.5366\n",
      "Epoch 27/100\n",
      "399/399 [==============================] - 1s 2ms/step - loss: 20.5044 - accuracy: 0.5396\n",
      "Epoch 28/100\n",
      "399/399 [==============================] - 1s 2ms/step - loss: 21.5384 - accuracy: 0.5445\n",
      "Epoch 29/100\n",
      "399/399 [==============================] - 1s 2ms/step - loss: 18.3607 - accuracy: 0.5408\n",
      "Epoch 30/100\n",
      "399/399 [==============================] - 1s 2ms/step - loss: 22.1229 - accuracy: 0.5491\n",
      "Epoch 31/100\n",
      "399/399 [==============================] - 1s 2ms/step - loss: 21.5023 - accuracy: 0.5418\n",
      "Epoch 32/100\n",
      "399/399 [==============================] - 1s 2ms/step - loss: 18.0296 - accuracy: 0.5526\n",
      "Epoch 33/100\n",
      "399/399 [==============================] - 1s 2ms/step - loss: 17.0769 - accuracy: 0.5444\n",
      "Epoch 34/100\n",
      "399/399 [==============================] - 1s 2ms/step - loss: 17.2110 - accuracy: 0.5510\n",
      "Epoch 35/100\n",
      "399/399 [==============================] - 1s 2ms/step - loss: 16.7195 - accuracy: 0.5519\n",
      "Epoch 36/100\n",
      "399/399 [==============================] - 1s 2ms/step - loss: 17.6828 - accuracy: 0.5455\n",
      "Epoch 37/100\n",
      "399/399 [==============================] - 1s 2ms/step - loss: 15.0283 - accuracy: 0.5510\n",
      "Epoch 38/100\n",
      "399/399 [==============================] - 1s 2ms/step - loss: 17.3588 - accuracy: 0.5543\n",
      "Epoch 39/100\n",
      "399/399 [==============================] - 1s 2ms/step - loss: 16.2615 - accuracy: 0.5525\n",
      "Epoch 40/100\n",
      "399/399 [==============================] - 1s 2ms/step - loss: 16.8906 - accuracy: 0.5606\n",
      "Epoch 41/100\n",
      "399/399 [==============================] - 1s 2ms/step - loss: 21.3991 - accuracy: 0.5425\n",
      "Epoch 42/100\n",
      "399/399 [==============================] - 1s 2ms/step - loss: 13.7763 - accuracy: 0.5577\n",
      "Epoch 43/100\n",
      "399/399 [==============================] - 1s 2ms/step - loss: 16.8389 - accuracy: 0.5568\n",
      "Epoch 44/100\n",
      "399/399 [==============================] - 1s 2ms/step - loss: 16.1180 - accuracy: 0.5495\n",
      "Epoch 45/100\n",
      "399/399 [==============================] - 1s 2ms/step - loss: 19.7410 - accuracy: 0.5521\n",
      "Epoch 46/100\n",
      "399/399 [==============================] - 1s 2ms/step - loss: 19.7868 - accuracy: 0.5501\n",
      "Epoch 47/100\n",
      "399/399 [==============================] - 1s 2ms/step - loss: 16.5169 - accuracy: 0.5582\n",
      "Epoch 48/100\n",
      "399/399 [==============================] - 1s 2ms/step - loss: 17.0342 - accuracy: 0.5527\n",
      "Epoch 49/100\n",
      "399/399 [==============================] - 1s 2ms/step - loss: 15.3323 - accuracy: 0.5621\n",
      "Epoch 50/100\n",
      "399/399 [==============================] - 1s 2ms/step - loss: 20.5286 - accuracy: 0.5502\n",
      "Epoch 51/100\n",
      "399/399 [==============================] - 1s 2ms/step - loss: 17.1111 - accuracy: 0.5511\n",
      "Epoch 52/100\n",
      "399/399 [==============================] - 1s 2ms/step - loss: 16.2772 - accuracy: 0.5562\n",
      "Epoch 53/100\n",
      "399/399 [==============================] - 1s 2ms/step - loss: 14.2922 - accuracy: 0.5659\n",
      "Epoch 54/100\n",
      "399/399 [==============================] - 1s 2ms/step - loss: 14.7710 - accuracy: 0.5558\n",
      "Epoch 55/100\n",
      "399/399 [==============================] - 1s 2ms/step - loss: 13.4425 - accuracy: 0.5646\n",
      "Epoch 56/100\n",
      "399/399 [==============================] - 1s 2ms/step - loss: 16.3482 - accuracy: 0.5576\n",
      "Epoch 57/100\n",
      "399/399 [==============================] - 1s 2ms/step - loss: 17.7588 - accuracy: 0.5485\n",
      "Epoch 58/100\n",
      "399/399 [==============================] - 1s 2ms/step - loss: 19.3924 - accuracy: 0.5527\n",
      "Epoch 59/100\n",
      "399/399 [==============================] - 1s 2ms/step - loss: 15.7204 - accuracy: 0.5633\n",
      "Epoch 60/100\n",
      "399/399 [==============================] - 1s 2ms/step - loss: 14.2583 - accuracy: 0.5621\n",
      "Epoch 61/100\n",
      "399/399 [==============================] - 1s 2ms/step - loss: 12.9395 - accuracy: 0.5701\n",
      "Epoch 62/100\n",
      "399/399 [==============================] - 1s 2ms/step - loss: 14.3267 - accuracy: 0.5673\n",
      "Epoch 63/100\n",
      "399/399 [==============================] - 1s 2ms/step - loss: 17.4062 - accuracy: 0.5554\n",
      "Epoch 64/100\n",
      "399/399 [==============================] - 1s 2ms/step - loss: 12.1492 - accuracy: 0.5699\n",
      "Epoch 65/100\n",
      "399/399 [==============================] - 1s 2ms/step - loss: 16.9465 - accuracy: 0.5496\n",
      "Epoch 66/100\n",
      "399/399 [==============================] - 1s 2ms/step - loss: 13.8178 - accuracy: 0.5630\n",
      "Epoch 67/100\n",
      "399/399 [==============================] - 1s 2ms/step - loss: 18.1813 - accuracy: 0.5578\n",
      "Epoch 68/100\n",
      "399/399 [==============================] - 1s 2ms/step - loss: 14.7107 - accuracy: 0.5630\n",
      "Epoch 69/100\n",
      "399/399 [==============================] - 1s 2ms/step - loss: 17.3864 - accuracy: 0.5618\n",
      "Epoch 70/100\n",
      "399/399 [==============================] - 1s 2ms/step - loss: 12.8214 - accuracy: 0.5732\n",
      "Epoch 71/100\n",
      "399/399 [==============================] - 1s 2ms/step - loss: 14.9584 - accuracy: 0.5617\n",
      "Epoch 72/100\n",
      "399/399 [==============================] - 1s 2ms/step - loss: 11.8852 - accuracy: 0.5715\n",
      "Epoch 73/100\n",
      "399/399 [==============================] - 1s 2ms/step - loss: 13.2769 - accuracy: 0.5628\n",
      "Epoch 74/100\n",
      "399/399 [==============================] - 1s 2ms/step - loss: 18.9845 - accuracy: 0.5533\n",
      "Epoch 75/100\n",
      "399/399 [==============================] - 1s 2ms/step - loss: 12.5786 - accuracy: 0.5756\n",
      "Epoch 76/100\n",
      "399/399 [==============================] - 1s 2ms/step - loss: 9.9587 - accuracy: 0.5865\n",
      "Epoch 77/100\n",
      "399/399 [==============================] - 1s 2ms/step - loss: 14.8099 - accuracy: 0.5650\n",
      "Epoch 78/100\n",
      "399/399 [==============================] - 1s 2ms/step - loss: 14.8868 - accuracy: 0.5666\n",
      "Epoch 79/100\n",
      "399/399 [==============================] - 1s 2ms/step - loss: 15.9905 - accuracy: 0.5549\n",
      "Epoch 80/100\n"
     ]
    },
    {
     "name": "stdout",
     "output_type": "stream",
     "text": [
      "399/399 [==============================] - 1s 2ms/step - loss: 14.5960 - accuracy: 0.5727\n",
      "Epoch 81/100\n",
      "399/399 [==============================] - 1s 2ms/step - loss: 11.4322 - accuracy: 0.5772\n",
      "Epoch 82/100\n",
      "399/399 [==============================] - 1s 2ms/step - loss: 12.5192 - accuracy: 0.5729\n",
      "Epoch 83/100\n",
      "399/399 [==============================] - 1s 2ms/step - loss: 17.1822 - accuracy: 0.5650\n",
      "Epoch 84/100\n",
      "399/399 [==============================] - 1s 2ms/step - loss: 12.8494 - accuracy: 0.5648\n",
      "Epoch 85/100\n",
      "399/399 [==============================] - 1s 2ms/step - loss: 14.4111 - accuracy: 0.5608\n",
      "Epoch 86/100\n",
      "399/399 [==============================] - 1s 2ms/step - loss: 12.5416 - accuracy: 0.5722\n",
      "Epoch 87/100\n",
      "399/399 [==============================] - 1s 2ms/step - loss: 16.1596 - accuracy: 0.5618\n",
      "Epoch 88/100\n",
      "399/399 [==============================] - 1s 2ms/step - loss: 14.6996 - accuracy: 0.5697\n",
      "Epoch 89/100\n",
      "399/399 [==============================] - 1s 2ms/step - loss: 15.9389 - accuracy: 0.5637\n",
      "Epoch 90/100\n",
      "399/399 [==============================] - 1s 2ms/step - loss: 12.5616 - accuracy: 0.5705\n",
      "Epoch 91/100\n",
      "399/399 [==============================] - 1s 2ms/step - loss: 13.4291 - accuracy: 0.5681\n",
      "Epoch 92/100\n",
      "399/399 [==============================] - 1s 2ms/step - loss: 12.0818 - accuracy: 0.5765\n",
      "Epoch 93/100\n",
      "399/399 [==============================] - 1s 2ms/step - loss: 12.6133 - accuracy: 0.5792\n",
      "Epoch 94/100\n",
      "399/399 [==============================] - 1s 2ms/step - loss: 15.8747 - accuracy: 0.5590\n",
      "Epoch 95/100\n",
      "399/399 [==============================] - 1s 2ms/step - loss: 14.1810 - accuracy: 0.5680\n",
      "Epoch 96/100\n",
      "399/399 [==============================] - 1s 2ms/step - loss: 14.2946 - accuracy: 0.5677\n",
      "Epoch 97/100\n",
      "399/399 [==============================] - 1s 2ms/step - loss: 13.1692 - accuracy: 0.5680\n",
      "Epoch 98/100\n",
      "399/399 [==============================] - 1s 2ms/step - loss: 12.9273 - accuracy: 0.5758\n",
      "Epoch 99/100\n",
      "399/399 [==============================] - 1s 2ms/step - loss: 13.7687 - accuracy: 0.5731\n",
      "Epoch 100/100\n",
      "399/399 [==============================] - 1s 2ms/step - loss: 14.0454 - accuracy: 0.5711\n",
      "100/100 [==============================] - 0s 1ms/step\n",
      "              precision    recall  f1-score   support\n",
      "\n",
      "           0       0.80      0.07      0.13      1593\n",
      "           1       0.51      0.98      0.67      1593\n",
      "\n",
      "    accuracy                           0.53      3186\n",
      "   macro avg       0.66      0.53      0.40      3186\n",
      "weighted avg       0.66      0.53      0.40      3186\n",
      "\n"
     ]
    }
   ],
   "source": [
    "confusionMatrix_os, accur_os, loss_os = ANN_performance(X_train_os, X_test_os, Y_train_os, Y_test_os, epochs=100)"
   ]
  },
  {
   "cell_type": "code",
   "execution_count": 26,
   "id": "85cc62e0",
   "metadata": {},
   "outputs": [
    {
     "data": {
      "image/png": "[encoded data removed]",
      "text/plain": [
       "<Figure size 432x288 with 2 Axes>"
      ]
     },
     "metadata": {
      "needs_background": "light"
     },
     "output_type": "display_data"
    }
   ],
   "source": [
    "displayConfusion(confusionMatrix_os)"
   ]
  },
  {
   "cell_type": "code",
   "execution_count": 27,
   "id": "b73a8c54",
   "metadata": {},
   "outputs": [
    {
     "data": {
      "image/png": "[encoded data removed]",
      "text/plain": [
       "<Figure size 432x288 with 1 Axes>"
      ]
     },
     "metadata": {
      "needs_background": "light"
     },
     "output_type": "display_data"
    }
   ],
   "source": [
    "accurGraph(accur_os, title=\"Graph for accuracy in oversample\")"
   ]
  },
  {
   "cell_type": "code",
   "execution_count": 28,
   "id": "052fdefa",
   "metadata": {},
   "outputs": [],
   "source": [
    "from imblearn.over_sampling import SMOTE"
   ]
  },
  {
   "cell_type": "code",
   "execution_count": 31,
   "id": "233f1804",
   "metadata": {},
   "outputs": [],
   "source": [
    "smote = SMOTE(sampling_strategy=\"minority\")\n",
    "X_smote, Y_smote = smote.fit_resample(df1.drop([\"Exited\"], axis=1), df1.Exited)"
   ]
  },
  {
   "cell_type": "code",
   "execution_count": 32,
   "id": "146879cd",
   "metadata": {},
   "outputs": [
    {
     "data": {
      "text/plain": [
       "(15926, 9)"
      ]
     },
     "execution_count": 32,
     "metadata": {},
     "output_type": "execute_result"
    }
   ],
   "source": [
    "X_smote.shape"
   ]
  },
  {
   "cell_type": "code",
   "execution_count": 33,
   "id": "97f9093c",
   "metadata": {},
   "outputs": [
    {
     "data": {
      "text/plain": [
       "(15926,)"
      ]
     },
     "execution_count": 33,
     "metadata": {},
     "output_type": "execute_result"
    }
   ],
   "source": [
    "Y_smote.shape"
   ]
  },
  {
   "cell_type": "code",
   "execution_count": 34,
   "id": "3e330f8f",
   "metadata": {},
   "outputs": [
    {
     "data": {
      "text/plain": [
       "1    7963\n",
       "0    7963\n",
       "Name: Exited, dtype: int64"
      ]
     },
     "execution_count": 34,
     "metadata": {},
     "output_type": "execute_result"
    }
   ],
   "source": [
    "Y_smote.value_counts()"
   ]
  },
  {
   "cell_type": "code",
   "execution_count": 35,
   "id": "ff3d7a8b",
   "metadata": {},
   "outputs": [],
   "source": [
    "X_train_smote, X_test_smote, Y_train_smote, Y_test_smote = train_test_split(X_smote, Y_smote, test_size=0.2, stratify=Y_smote, random_state=42)"
   ]
  },
  {
   "cell_type": "code",
   "execution_count": 36,
   "id": "42f1a73e",
   "metadata": {},
   "outputs": [
    {
     "data": {
      "text/plain": [
       "(12740, 9)"
      ]
     },
     "execution_count": 36,
     "metadata": {},
     "output_type": "execute_result"
    }
   ],
   "source": [
    "X_train_smote.shape"
   ]
  },
  {
   "cell_type": "code",
   "execution_count": 37,
   "id": "299ed236",
   "metadata": {},
   "outputs": [
    {
     "data": {
      "text/plain": [
       "(12740,)"
      ]
     },
     "execution_count": 37,
     "metadata": {},
     "output_type": "execute_result"
    }
   ],
   "source": [
    "Y_train_smote.shape"
   ]
  },
  {
   "cell_type": "code",
   "execution_count": 38,
   "id": "eda58ba6",
   "metadata": {},
   "outputs": [
    {
     "name": "stdout",
     "output_type": "stream",
     "text": [
      "Epoch 1/100\n",
      "399/399 [==============================] - 1s 2ms/step - loss: 1729.6959 - accuracy: 0.5329\n",
      "Epoch 2/100\n",
      "399/399 [==============================] - 1s 3ms/step - loss: 143.9780 - accuracy: 0.4979\n",
      "Epoch 3/100\n",
      "399/399 [==============================] - 1s 3ms/step - loss: 41.6537 - accuracy: 0.4946\n",
      "Epoch 4/100\n",
      "399/399 [==============================] - 1s 2ms/step - loss: 17.9479 - accuracy: 0.4886\n",
      "Epoch 5/100\n",
      "399/399 [==============================] - 1s 2ms/step - loss: 11.5075 - accuracy: 0.4856\n",
      "Epoch 6/100\n",
      "399/399 [==============================] - 1s 2ms/step - loss: 7.4756 - accuracy: 0.4786\n",
      "Epoch 7/100\n",
      "399/399 [==============================] - 1s 2ms/step - loss: 5.8840 - accuracy: 0.4917\n",
      "Epoch 8/100\n",
      "399/399 [==============================] - 1s 2ms/step - loss: 7.4962 - accuracy: 0.5436\n",
      "Epoch 9/100\n",
      "399/399 [==============================] - 1s 2ms/step - loss: 5.2396 - accuracy: 0.5437\n",
      "Epoch 10/100\n",
      "399/399 [==============================] - 1s 2ms/step - loss: 6.7284 - accuracy: 0.5407\n",
      "Epoch 11/100\n",
      "399/399 [==============================] - 1s 2ms/step - loss: 7.2737 - accuracy: 0.5412\n",
      "Epoch 12/100\n",
      "399/399 [==============================] - 1s 2ms/step - loss: 4.5533 - accuracy: 0.5495\n",
      "Epoch 13/100\n",
      "399/399 [==============================] - 1s 2ms/step - loss: 4.5815 - accuracy: 0.5476\n",
      "Epoch 14/100\n",
      "399/399 [==============================] - 1s 2ms/step - loss: 4.7090 - accuracy: 0.5432\n",
      "Epoch 15/100\n",
      "399/399 [==============================] - 1s 2ms/step - loss: 4.5386 - accuracy: 0.5480\n",
      "Epoch 16/100\n",
      "399/399 [==============================] - 1s 2ms/step - loss: 4.6323 - accuracy: 0.5462\n",
      "Epoch 17/100\n",
      "399/399 [==============================] - 1s 2ms/step - loss: 3.4872 - accuracy: 0.5464\n",
      "Epoch 18/100\n",
      "399/399 [==============================] - 1s 2ms/step - loss: 4.1914 - accuracy: 0.5518\n",
      "Epoch 19/100\n",
      "399/399 [==============================] - 1s 2ms/step - loss: 4.7265 - accuracy: 0.5462\n",
      "Epoch 20/100\n",
      "399/399 [==============================] - 1s 2ms/step - loss: 6.0519 - accuracy: 0.5473\n",
      "Epoch 21/100\n",
      "399/399 [==============================] - 1s 2ms/step - loss: 5.2983 - accuracy: 0.5488\n",
      "Epoch 22/100\n",
      "399/399 [==============================] - 1s 2ms/step - loss: 5.0158 - accuracy: 0.5559\n",
      "Epoch 23/100\n",
      "399/399 [==============================] - 1s 2ms/step - loss: 4.7251 - accuracy: 0.5513\n",
      "Epoch 24/100\n",
      "399/399 [==============================] - 1s 2ms/step - loss: 4.8766 - accuracy: 0.5535\n",
      "Epoch 25/100\n",
      "399/399 [==============================] - 1s 2ms/step - loss: 6.7742 - accuracy: 0.5449\n",
      "Epoch 26/100\n",
      "399/399 [==============================] - 1s 2ms/step - loss: 4.1874 - accuracy: 0.5549\n",
      "Epoch 27/100\n",
      "399/399 [==============================] - 1s 2ms/step - loss: 4.3059 - accuracy: 0.5557\n",
      "Epoch 28/100\n",
      "399/399 [==============================] - 1s 2ms/step - loss: 3.9791 - accuracy: 0.5539\n",
      "Epoch 29/100\n",
      "399/399 [==============================] - 1s 2ms/step - loss: 4.1661 - accuracy: 0.5553\n",
      "Epoch 30/100\n",
      "399/399 [==============================] - 1s 2ms/step - loss: 4.6605 - accuracy: 0.5551\n",
      "Epoch 31/100\n",
      "399/399 [==============================] - 1s 2ms/step - loss: 4.0686 - accuracy: 0.5591\n",
      "Epoch 32/100\n",
      "399/399 [==============================] - 1s 2ms/step - loss: 4.2473 - accuracy: 0.5546\n",
      "Epoch 33/100\n",
      "399/399 [==============================] - 1s 2ms/step - loss: 3.7484 - accuracy: 0.5542\n",
      "Epoch 34/100\n",
      "399/399 [==============================] - 1s 2ms/step - loss: 4.4178 - accuracy: 0.5557\n",
      "Epoch 35/100\n",
      "399/399 [==============================] - 1s 2ms/step - loss: 4.3812 - accuracy: 0.5520\n",
      "Epoch 36/100\n",
      "399/399 [==============================] - 1s 2ms/step - loss: 4.3809 - accuracy: 0.5574\n",
      "Epoch 37/100\n",
      "399/399 [==============================] - 1s 2ms/step - loss: 5.5558 - accuracy: 0.5518\n",
      "Epoch 38/100\n",
      "399/399 [==============================] - 1s 2ms/step - loss: 3.8887 - accuracy: 0.5573\n",
      "Epoch 39/100\n",
      "399/399 [==============================] - 1s 2ms/step - loss: 4.4310 - accuracy: 0.5550\n",
      "Epoch 40/100\n",
      "399/399 [==============================] - 1s 2ms/step - loss: 4.4905 - accuracy: 0.5474\n",
      "Epoch 41/100\n",
      "399/399 [==============================] - 1s 2ms/step - loss: 3.6262 - accuracy: 0.5552\n",
      "Epoch 42/100\n",
      "399/399 [==============================] - 1s 2ms/step - loss: 4.0350 - accuracy: 0.5577\n",
      "Epoch 43/100\n",
      "399/399 [==============================] - 1s 2ms/step - loss: 4.2621 - accuracy: 0.5548\n",
      "Epoch 44/100\n",
      "399/399 [==============================] - 1s 2ms/step - loss: 3.9230 - accuracy: 0.5527\n",
      "Epoch 45/100\n",
      "399/399 [==============================] - 1s 2ms/step - loss: 3.8396 - accuracy: 0.5561\n",
      "Epoch 46/100\n",
      "399/399 [==============================] - 1s 2ms/step - loss: 4.0541 - accuracy: 0.5599\n",
      "Epoch 47/100\n",
      "399/399 [==============================] - 1s 2ms/step - loss: 4.0281 - accuracy: 0.5556\n",
      "Epoch 48/100\n",
      "399/399 [==============================] - 1s 2ms/step - loss: 3.5761 - accuracy: 0.5623\n",
      "Epoch 49/100\n",
      "399/399 [==============================] - 1s 2ms/step - loss: 5.3484 - accuracy: 0.5558\n",
      "Epoch 50/100\n",
      "399/399 [==============================] - 1s 2ms/step - loss: 3.9429 - accuracy: 0.5576\n",
      "Epoch 51/100\n",
      "399/399 [==============================] - 1s 2ms/step - loss: 4.7725 - accuracy: 0.5560\n",
      "Epoch 52/100\n",
      "399/399 [==============================] - 1s 2ms/step - loss: 4.4102 - accuracy: 0.5557\n",
      "Epoch 53/100\n",
      "399/399 [==============================] - 1s 2ms/step - loss: 2.5762 - accuracy: 0.5648\n",
      "Epoch 54/100\n",
      "399/399 [==============================] - 1s 2ms/step - loss: 2.9709 - accuracy: 0.5633\n",
      "Epoch 55/100\n",
      "399/399 [==============================] - 1s 2ms/step - loss: 3.3050 - accuracy: 0.5616\n",
      "Epoch 56/100\n",
      "399/399 [==============================] - 1s 2ms/step - loss: 3.1616 - accuracy: 0.5621\n",
      "Epoch 57/100\n",
      "399/399 [==============================] - 1s 2ms/step - loss: 3.1998 - accuracy: 0.5595\n",
      "Epoch 58/100\n",
      "399/399 [==============================] - 1s 2ms/step - loss: 4.1318 - accuracy: 0.5538\n",
      "Epoch 59/100\n",
      "399/399 [==============================] - 1s 2ms/step - loss: 2.7092 - accuracy: 0.5600\n",
      "Epoch 60/100\n",
      "399/399 [==============================] - 1s 2ms/step - loss: 3.2257 - accuracy: 0.5636\n",
      "Epoch 61/100\n",
      "399/399 [==============================] - 1s 2ms/step - loss: 2.2593 - accuracy: 0.5693\n",
      "Epoch 62/100\n",
      "399/399 [==============================] - 1s 2ms/step - loss: 2.9806 - accuracy: 0.5630\n",
      "Epoch 63/100\n",
      "399/399 [==============================] - 1s 2ms/step - loss: 2.5046 - accuracy: 0.5655\n",
      "Epoch 64/100\n",
      "399/399 [==============================] - 1s 2ms/step - loss: 4.7338 - accuracy: 0.5553\n",
      "Epoch 65/100\n",
      "399/399 [==============================] - 1s 2ms/step - loss: 2.9161 - accuracy: 0.5598\n",
      "Epoch 66/100\n",
      "399/399 [==============================] - 1s 2ms/step - loss: 2.5224 - accuracy: 0.5644\n",
      "Epoch 67/100\n",
      "399/399 [==============================] - 1s 2ms/step - loss: 1.7602 - accuracy: 0.5717\n",
      "Epoch 68/100\n",
      "399/399 [==============================] - 1s 2ms/step - loss: 2.9360 - accuracy: 0.5608\n",
      "Epoch 69/100\n",
      "399/399 [==============================] - 1s 2ms/step - loss: 3.4513 - accuracy: 0.5587\n",
      "Epoch 70/100\n",
      "399/399 [==============================] - 1s 2ms/step - loss: 2.7949 - accuracy: 0.5611\n",
      "Epoch 71/100\n",
      "399/399 [==============================] - 1s 2ms/step - loss: 3.4760 - accuracy: 0.5630\n",
      "Epoch 72/100\n",
      "399/399 [==============================] - 1s 2ms/step - loss: 2.6733 - accuracy: 0.5650\n",
      "Epoch 73/100\n",
      "399/399 [==============================] - 1s 2ms/step - loss: 4.9052 - accuracy: 0.5531\n",
      "Epoch 74/100\n",
      "399/399 [==============================] - 1s 2ms/step - loss: 2.3040 - accuracy: 0.5661\n",
      "Epoch 75/100\n",
      "399/399 [==============================] - 1s 2ms/step - loss: 2.5877 - accuracy: 0.5626\n",
      "Epoch 76/100\n",
      "399/399 [==============================] - 1s 2ms/step - loss: 2.6458 - accuracy: 0.5678\n",
      "Epoch 77/100\n",
      "399/399 [==============================] - 1s 2ms/step - loss: 2.9447 - accuracy: 0.5591\n",
      "Epoch 78/100\n",
      "399/399 [==============================] - 1s 2ms/step - loss: 2.7996 - accuracy: 0.5681\n",
      "Epoch 79/100\n",
      "399/399 [==============================] - 1s 2ms/step - loss: 2.7221 - accuracy: 0.5630\n",
      "Epoch 80/100\n",
      "399/399 [==============================] - 1s 2ms/step - loss: 3.2428 - accuracy: 0.5583\n",
      "Epoch 81/100\n"
     ]
    },
    {
     "name": "stdout",
     "output_type": "stream",
     "text": [
      "399/399 [==============================] - 1s 2ms/step - loss: 2.1485 - accuracy: 0.5688\n",
      "Epoch 82/100\n",
      "399/399 [==============================] - 1s 2ms/step - loss: 2.0244 - accuracy: 0.5694\n",
      "Epoch 83/100\n",
      "399/399 [==============================] - 1s 2ms/step - loss: 2.1590 - accuracy: 0.5705\n",
      "Epoch 84/100\n",
      "399/399 [==============================] - 1s 2ms/step - loss: 2.0552 - accuracy: 0.5686\n",
      "Epoch 85/100\n",
      "399/399 [==============================] - 1s 2ms/step - loss: 2.2059 - accuracy: 0.5681\n",
      "Epoch 86/100\n",
      "399/399 [==============================] - 1s 2ms/step - loss: 2.1088 - accuracy: 0.5666\n",
      "Epoch 87/100\n",
      "399/399 [==============================] - 1s 2ms/step - loss: 1.8889 - accuracy: 0.5689\n",
      "Epoch 88/100\n",
      "399/399 [==============================] - 1s 2ms/step - loss: 2.3258 - accuracy: 0.5684\n",
      "Epoch 89/100\n",
      "399/399 [==============================] - 1s 2ms/step - loss: 2.0360 - accuracy: 0.5644\n",
      "Epoch 90/100\n",
      "399/399 [==============================] - 1s 2ms/step - loss: 2.0240 - accuracy: 0.5671\n",
      "Epoch 91/100\n",
      "399/399 [==============================] - 1s 2ms/step - loss: 1.5421 - accuracy: 0.5780\n",
      "Epoch 92/100\n",
      "399/399 [==============================] - 1s 2ms/step - loss: 1.9592 - accuracy: 0.5688\n",
      "Epoch 93/100\n",
      "399/399 [==============================] - 1s 2ms/step - loss: 2.2791 - accuracy: 0.5650\n",
      "Epoch 94/100\n",
      "399/399 [==============================] - 1s 2ms/step - loss: 2.7312 - accuracy: 0.5620\n",
      "Epoch 95/100\n",
      "399/399 [==============================] - 1s 2ms/step - loss: 1.8382 - accuracy: 0.5710\n",
      "Epoch 96/100\n",
      "399/399 [==============================] - 1s 2ms/step - loss: 1.7876 - accuracy: 0.5729\n",
      "Epoch 97/100\n",
      "399/399 [==============================] - 1s 2ms/step - loss: 1.7188 - accuracy: 0.5717\n",
      "Epoch 98/100\n",
      "399/399 [==============================] - 1s 2ms/step - loss: 2.1298 - accuracy: 0.5746\n",
      "Epoch 99/100\n",
      "399/399 [==============================] - 1s 2ms/step - loss: 1.9100 - accuracy: 0.5721\n",
      "Epoch 100/100\n",
      "399/399 [==============================] - 1s 2ms/step - loss: 2.3222 - accuracy: 0.5664\n",
      "100/100 [==============================] - 0s 2ms/step\n",
      "              precision    recall  f1-score   support\n",
      "\n",
      "           0       0.63      0.38      0.47      1593\n",
      "           1       0.56      0.78      0.65      1593\n",
      "\n",
      "    accuracy                           0.58      3186\n",
      "   macro avg       0.59      0.58      0.56      3186\n",
      "weighted avg       0.59      0.58      0.56      3186\n",
      "\n"
     ]
    }
   ],
   "source": [
    "confusionMatrix_smote, accur_smote, loss_smote = ANN_performance(X_train_smote, X_test_smote, Y_train_smote, Y_test_smote, epochs=100)"
   ]
  },
  {
   "cell_type": "code",
   "execution_count": 39,
   "id": "bb7ed783",
   "metadata": {},
   "outputs": [
    {
     "data": {
      "image/png": "[encoded data removed]",
      "text/plain": [
       "<Figure size 432x288 with 2 Axes>"
      ]
     },
     "metadata": {
      "needs_background": "light"
     },
     "output_type": "display_data"
    }
   ],
   "source": [
    "displayConfusion(confusionMatrix_smote)"
   ]
  },
  {
   "cell_type": "code",
   "execution_count": 40,
   "id": "de44d344",
   "metadata": {},
   "outputs": [
    {
     "data": {
      "image/png": "[encoded data removed]",
      "text/plain": [
       "<Figure size 432x288 with 1 Axes>"
      ]
     },
     "metadata": {
      "needs_background": "light"
     },
     "output_type": "display_data"
    }
   ],
   "source": [
    "accurGraph(accur_smote, title=\"accuracy graph for SMOTE\")"
   ]
  },
  {
   "cell_type": "code",
   "execution_count": null,
   "id": "8ba291a2",
   "metadata": {},
   "outputs": [],
   "source": []
  }
 ],
 "metadata": {
  "kernelspec": {
   "display_name": "Python 3 (ipykernel)",
   "language": "python",
   "name": "python3"
  },
  "language_info": {
   "codemirror_mode": {
    "name": "ipython",
    "version": 3
   },
   "file_extension": ".py",
   "mimetype": "text/x-python",
   "name": "python",
   "nbconvert_exporter": "python",
   "pygments_lexer": "ipython3",
   "version": "3.9.10"
  }
 },
 "nbformat": 4,
 "nbformat_minor": 5
}
